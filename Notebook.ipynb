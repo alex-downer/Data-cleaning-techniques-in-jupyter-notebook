{
 "cells": [
  {
   "cell_type": "markdown",
   "id": "5c40a4ca",
   "metadata": {},
   "source": [
    "# Exploring some data cleaning techniques in Python and jupyter notebook. \n",
    "Dataset used can be found here: https://www.kaggle.com/c/sberbank-russian-housing-market/data\n",
    "\n",
    "Python Libraries Used:\n",
    "1. Pandas: a popular data analysis and manipulation tool, which will be used for most of our data cleaning techniques\n",
    "2. Seaborn: statistical data visualization library\n",
    "3. Missingno: missing data-focused visualization package.\n",
    "4. nltk: natural language toolkit"
   ]
  },
  {
   "cell_type": "markdown",
   "id": "157af957",
   "metadata": {},
   "source": [
    "## Guide:\n",
    "\n",
    "##### 1. What is Data Cleaning, and why is it important?\n",
    "        a. why do we have to clean the data?\n",
    "       \n",
    "##### 2. Sample Dataset\n",
    "\n",
    "\n",
    "##### 3. Missing data\n",
    "    a. How to find out?\n",
    "    b. What to do?\n",
    "\n",
    "##### 4. Irregular data (outliers)\n",
    "    a. How to find out?\n",
    "    b. What to do?\n",
    "\n",
    "##### 5. Unnecessary data\n",
    "    a. Unnecessary type #1: repetitive & uninformative\n",
    "    b. Unnecessary type #2: irrelevant\n",
    "    c. Unnecessary type #3: duplicates\n",
    "\n",
    "##### 6. Inconsistent data\n",
    "    a. Inconsistent type #1: capitalization\n",
    "    b. Inconsistent type #2: data types\n",
    "    c. Inconsistent type #3: typos of categorical values\n",
    "    d. Inconsistent type #4: addresses"
   ]
  },
  {
   "cell_type": "markdown",
   "id": "dabd0727",
   "metadata": {},
   "source": [
    "# 1. What is Data Cleaning? \n",
    "Data cleaning or data cleansing is the process of detecting and correcting (or removing) corrupt or inaccurate records from a record set, table, or database and refers to identifying incomplete, incorrect, inaccurate, or irrelevant parts of the data and then replacing, modifying, or deleting the dirty or coarse data.\n",
    "\n",
    "#### 1a. why do we have to clean the data?\n",
    "In reality, the raw data is almost always messy. If you use such data for analysis, for example, feed into a machine learning model, you’ll get useless insights most of the time. That’s why data cleansing is a critical process for data analysts and data scientists.\n",
    "\n",
    "Data cleaning involves different processes depending on the datase, but it is still good to have a checklist to start with. In this guide, we’ll cover the most common data cleaning problems. For each problem. \n",
    "\n",
    "### "
   ]
  },
  {
   "cell_type": "markdown",
   "id": "e447a83f",
   "metadata": {},
   "source": [
    "# 2. Sample Dataset  \n",
    "For the majority part of the guide, we’ll use the Russian housing market dataset from Kaggle. The goal of the project is to predict housing prices. The dataset is large and it will help us understand most of the data cleaning techniques that we’ll cover."
   ]
  },
  {
   "cell_type": "markdown",
   "id": "3a7f7e17",
   "metadata": {},
   "source": [
    "### Working with Sberbank Russian Housing Market Dataset"
   ]
  },
  {
   "cell_type": "code",
   "execution_count": 57,
   "id": "11385ce8",
   "metadata": {},
   "outputs": [],
   "source": [
    "import pandas as pd\n",
    "\n",
    "sberbank = pd.read_csv(\"C:/Users/bigSylvaa/Documents/Data Analysis Projects/Russian housing market dataset/sberbank.csv\")"
   ]
  },
  {
   "cell_type": "markdown",
   "id": "3a39669b",
   "metadata": {},
   "source": [
    "### Dataset has 30,471 rows and 292 columns.\n"
   ]
  },
  {
   "cell_type": "code",
   "execution_count": 4,
   "id": "98fefa19",
   "metadata": {},
   "outputs": [
    {
     "name": "stdout",
     "output_type": "stream",
     "text": [
      "<class 'pandas.core.frame.DataFrame'>\n",
      "RangeIndex: 30471 entries, 0 to 30470\n",
      "Data columns (total 292 columns):\n",
      " #    Column                                 Dtype  \n",
      "---   ------                                 -----  \n",
      " 0    id                                     int64  \n",
      " 1    timestamp                              object \n",
      " 2    full_sq                                int64  \n",
      " 3    life_sq                                float64\n",
      " 4    floor                                  float64\n",
      " 5    max_floor                              float64\n",
      " 6    material                               float64\n",
      " 7    build_year                             float64\n",
      " 8    num_room                               float64\n",
      " 9    kitch_sq                               float64\n",
      " 10   state                                  float64\n",
      " 11   product_type                           object \n",
      " 12   sub_area                               object \n",
      " 13   area_m                                 float64\n",
      " 14   raion_popul                            int64  \n",
      " 15   green_zone_part                        float64\n",
      " 16   indust_part                            float64\n",
      " 17   children_preschool                     int64  \n",
      " 18   preschool_quota                        float64\n",
      " 19   preschool_education_centers_raion      int64  \n",
      " 20   children_school                        int64  \n",
      " 21   school_quota                           float64\n",
      " 22   school_education_centers_raion         int64  \n",
      " 23   school_education_centers_top_20_raion  int64  \n",
      " 24   hospital_beds_raion                    float64\n",
      " 25   healthcare_centers_raion               int64  \n",
      " 26   university_top_20_raion                int64  \n",
      " 27   sport_objects_raion                    int64  \n",
      " 28   additional_education_raion             int64  \n",
      " 29   culture_objects_top_25                 object \n",
      " 30   culture_objects_top_25_raion           int64  \n",
      " 31   shopping_centers_raion                 int64  \n",
      " 32   office_raion                           int64  \n",
      " 33   thermal_power_plant_raion              object \n",
      " 34   incineration_raion                     object \n",
      " 35   oil_chemistry_raion                    object \n",
      " 36   radiation_raion                        object \n",
      " 37   railroad_terminal_raion                object \n",
      " 38   big_market_raion                       object \n",
      " 39   nuclear_reactor_raion                  object \n",
      " 40   detention_facility_raion               object \n",
      " 41   full_all                               int64  \n",
      " 42   male_f                                 int64  \n",
      " 43   female_f                               int64  \n",
      " 44   young_all                              int64  \n",
      " 45   young_male                             int64  \n",
      " 46   young_female                           int64  \n",
      " 47   work_all                               int64  \n",
      " 48   work_male                              int64  \n",
      " 49   work_female                            int64  \n",
      " 50   ekder_all                              int64  \n",
      " 51   ekder_male                             int64  \n",
      " 52   ekder_female                           int64  \n",
      " 53   0_6_all                                int64  \n",
      " 54   0_6_male                               int64  \n",
      " 55   0_6_female                             int64  \n",
      " 56   7_14_all                               int64  \n",
      " 57   7_14_male                              int64  \n",
      " 58   7_14_female                            int64  \n",
      " 59   0_17_all                               int64  \n",
      " 60   0_17_male                              int64  \n",
      " 61   0_17_female                            int64  \n",
      " 62   16_29_all                              int64  \n",
      " 63   16_29_male                             int64  \n",
      " 64   16_29_female                           int64  \n",
      " 65   0_13_all                               int64  \n",
      " 66   0_13_male                              int64  \n",
      " 67   0_13_female                            int64  \n",
      " 68   raion_build_count_with_material_info   float64\n",
      " 69   build_count_block                      float64\n",
      " 70   build_count_wood                       float64\n",
      " 71   build_count_frame                      float64\n",
      " 72   build_count_brick                      float64\n",
      " 73   build_count_monolith                   float64\n",
      " 74   build_count_panel                      float64\n",
      " 75   build_count_foam                       float64\n",
      " 76   build_count_slag                       float64\n",
      " 77   build_count_mix                        float64\n",
      " 78   raion_build_count_with_builddate_info  float64\n",
      " 79   build_count_before_1920                float64\n",
      " 80   build_count_1921-1945                  float64\n",
      " 81   build_count_1946-1970                  float64\n",
      " 82   build_count_1971-1995                  float64\n",
      " 83   build_count_after_1995                 float64\n",
      " 84   ID_metro                               int64  \n",
      " 85   metro_min_avto                         float64\n",
      " 86   metro_km_avto                          float64\n",
      " 87   metro_min_walk                         float64\n",
      " 88   metro_km_walk                          float64\n",
      " 89   kindergarten_km                        float64\n",
      " 90   school_km                              float64\n",
      " 91   park_km                                float64\n",
      " 92   green_zone_km                          float64\n",
      " 93   industrial_km                          float64\n",
      " 94   water_treatment_km                     float64\n",
      " 95   cemetery_km                            float64\n",
      " 96   incineration_km                        float64\n",
      " 97   railroad_station_walk_km               float64\n",
      " 98   railroad_station_walk_min              float64\n",
      " 99   ID_railroad_station_walk               float64\n",
      " 100  railroad_station_avto_km               float64\n",
      " 101  railroad_station_avto_min              float64\n",
      " 102  ID_railroad_station_avto               int64  \n",
      " 103  public_transport_station_km            float64\n",
      " 104  public_transport_station_min_walk      float64\n",
      " 105  water_km                               float64\n",
      " 106  water_1line                            object \n",
      " 107  mkad_km                                float64\n",
      " 108  ttk_km                                 float64\n",
      " 109  sadovoe_km                             float64\n",
      " 110  bulvar_ring_km                         float64\n",
      " 111  kremlin_km                             float64\n",
      " 112  big_road1_km                           float64\n",
      " 113  ID_big_road1                           int64  \n",
      " 114  big_road1_1line                        object \n",
      " 115  big_road2_km                           float64\n",
      " 116  ID_big_road2                           int64  \n",
      " 117  railroad_km                            float64\n",
      " 118  railroad_1line                         object \n",
      " 119  zd_vokzaly_avto_km                     float64\n",
      " 120  ID_railroad_terminal                   int64  \n",
      " 121  bus_terminal_avto_km                   float64\n",
      " 122  ID_bus_terminal                        int64  \n",
      " 123  oil_chemistry_km                       float64\n",
      " 124  nuclear_reactor_km                     float64\n",
      " 125  radiation_km                           float64\n",
      " 126  power_transmission_line_km             float64\n",
      " 127  thermal_power_plant_km                 float64\n",
      " 128  ts_km                                  float64\n",
      " 129  big_market_km                          float64\n",
      " 130  market_shop_km                         float64\n",
      " 131  fitness_km                             float64\n",
      " 132  swim_pool_km                           float64\n",
      " 133  ice_rink_km                            float64\n",
      " 134  stadium_km                             float64\n",
      " 135  basketball_km                          float64\n",
      " 136  hospice_morgue_km                      float64\n",
      " 137  detention_facility_km                  float64\n",
      " 138  public_healthcare_km                   float64\n",
      " 139  university_km                          float64\n",
      " 140  workplaces_km                          float64\n",
      " 141  shopping_centers_km                    float64\n",
      " 142  office_km                              float64\n",
      " 143  additional_education_km                float64\n",
      " 144  preschool_km                           float64\n",
      " 145  big_church_km                          float64\n",
      " 146  church_synagogue_km                    float64\n",
      " 147  mosque_km                              float64\n",
      " 148  theater_km                             float64\n",
      " 149  museum_km                              float64\n",
      " 150  exhibition_km                          float64\n",
      " 151  catering_km                            float64\n",
      " 152  ecology                                object \n",
      " 153  green_part_500                         float64\n",
      " 154  prom_part_500                          float64\n",
      " 155  office_count_500                       int64  \n",
      " 156  office_sqm_500                         int64  \n",
      " 157  trc_count_500                          int64  \n",
      " 158  trc_sqm_500                            int64  \n",
      " 159  cafe_count_500                         int64  \n",
      " 160  cafe_sum_500_min_price_avg             float64\n",
      " 161  cafe_sum_500_max_price_avg             float64\n",
      " 162  cafe_avg_price_500                     float64\n",
      " 163  cafe_count_500_na_price                int64  \n",
      " 164  cafe_count_500_price_500               int64  \n",
      " 165  cafe_count_500_price_1000              int64  \n",
      " 166  cafe_count_500_price_1500              int64  \n",
      " 167  cafe_count_500_price_2500              int64  \n",
      " 168  cafe_count_500_price_4000              int64  \n",
      " 169  cafe_count_500_price_high              int64  \n",
      " 170  big_church_count_500                   int64  \n",
      " 171  church_count_500                       int64  \n",
      " 172  mosque_count_500                       int64  \n",
      " 173  leisure_count_500                      int64  \n",
      " 174  sport_count_500                        int64  \n",
      " 175  market_count_500                       int64  \n",
      " 176  green_part_1000                        float64\n",
      " 177  prom_part_1000                         float64\n",
      " 178  office_count_1000                      int64  \n",
      " 179  office_sqm_1000                        int64  \n",
      " 180  trc_count_1000                         int64  \n",
      " 181  trc_sqm_1000                           int64  \n",
      " 182  cafe_count_1000                        int64  \n",
      " 183  cafe_sum_1000_min_price_avg            float64\n",
      " 184  cafe_sum_1000_max_price_avg            float64\n",
      " 185  cafe_avg_price_1000                    float64\n",
      " 186  cafe_count_1000_na_price               int64  \n",
      " 187  cafe_count_1000_price_500              int64  \n",
      " 188  cafe_count_1000_price_1000             int64  \n",
      " 189  cafe_count_1000_price_1500             int64  \n",
      " 190  cafe_count_1000_price_2500             int64  \n",
      " 191  cafe_count_1000_price_4000             int64  \n",
      " 192  cafe_count_1000_price_high             int64  \n",
      " 193  big_church_count_1000                  int64  \n",
      " 194  church_count_1000                      int64  \n",
      " 195  mosque_count_1000                      int64  \n",
      " 196  leisure_count_1000                     int64  \n",
      " 197  sport_count_1000                       int64  \n",
      " 198  market_count_1000                      int64  \n",
      " 199  green_part_1500                        float64\n",
      " 200  prom_part_1500                         float64\n",
      " 201  office_count_1500                      int64  \n",
      " 202  office_sqm_1500                        int64  \n",
      " 203  trc_count_1500                         int64  \n",
      " 204  trc_sqm_1500                           int64  \n",
      " 205  cafe_count_1500                        int64  \n",
      " 206  cafe_sum_1500_min_price_avg            float64\n",
      " 207  cafe_sum_1500_max_price_avg            float64\n",
      " 208  cafe_avg_price_1500                    float64\n",
      " 209  cafe_count_1500_na_price               int64  \n",
      " 210  cafe_count_1500_price_500              int64  \n",
      " 211  cafe_count_1500_price_1000             int64  \n",
      " 212  cafe_count_1500_price_1500             int64  \n",
      " 213  cafe_count_1500_price_2500             int64  \n",
      " 214  cafe_count_1500_price_4000             int64  \n",
      " 215  cafe_count_1500_price_high             int64  \n",
      " 216  big_church_count_1500                  int64  \n",
      " 217  church_count_1500                      int64  \n",
      " 218  mosque_count_1500                      int64  \n",
      " 219  leisure_count_1500                     int64  \n",
      " 220  sport_count_1500                       int64  \n",
      " 221  market_count_1500                      int64  \n",
      " 222  green_part_2000                        float64\n",
      " 223  prom_part_2000                         float64\n",
      " 224  office_count_2000                      int64  \n",
      " 225  office_sqm_2000                        int64  \n",
      " 226  trc_count_2000                         int64  \n",
      " 227  trc_sqm_2000                           int64  \n",
      " 228  cafe_count_2000                        int64  \n",
      " 229  cafe_sum_2000_min_price_avg            float64\n",
      " 230  cafe_sum_2000_max_price_avg            float64\n",
      " 231  cafe_avg_price_2000                    float64\n",
      " 232  cafe_count_2000_na_price               int64  \n",
      " 233  cafe_count_2000_price_500              int64  \n",
      " 234  cafe_count_2000_price_1000             int64  \n",
      " 235  cafe_count_2000_price_1500             int64  \n",
      " 236  cafe_count_2000_price_2500             int64  \n",
      " 237  cafe_count_2000_price_4000             int64  \n",
      " 238  cafe_count_2000_price_high             int64  \n",
      " 239  big_church_count_2000                  int64  \n",
      " 240  church_count_2000                      int64  \n",
      " 241  mosque_count_2000                      int64  \n",
      " 242  leisure_count_2000                     int64  \n",
      " 243  sport_count_2000                       int64  \n",
      " 244  market_count_2000                      int64  \n",
      " 245  green_part_3000                        float64\n",
      " 246  prom_part_3000                         float64\n",
      " 247  office_count_3000                      int64  \n",
      " 248  office_sqm_3000                        int64  \n",
      " 249  trc_count_3000                         int64  \n",
      " 250  trc_sqm_3000                           int64  \n",
      " 251  cafe_count_3000                        int64  \n",
      " 252  cafe_sum_3000_min_price_avg            float64\n",
      " 253  cafe_sum_3000_max_price_avg            float64\n",
      " 254  cafe_avg_price_3000                    float64\n",
      " 255  cafe_count_3000_na_price               int64  \n",
      " 256  cafe_count_3000_price_500              int64  \n",
      " 257  cafe_count_3000_price_1000             int64  \n",
      " 258  cafe_count_3000_price_1500             int64  \n",
      " 259  cafe_count_3000_price_2500             int64  \n",
      " 260  cafe_count_3000_price_4000             int64  \n",
      " 261  cafe_count_3000_price_high             int64  \n",
      " 262  big_church_count_3000                  int64  \n",
      " 263  church_count_3000                      int64  \n",
      " 264  mosque_count_3000                      int64  \n",
      " 265  leisure_count_3000                     int64  \n",
      " 266  sport_count_3000                       int64  \n",
      " 267  market_count_3000                      int64  \n",
      " 268  green_part_5000                        float64\n",
      " 269  prom_part_5000                         float64\n",
      " 270  office_count_5000                      int64  \n",
      " 271  office_sqm_5000                        int64  \n",
      " 272  trc_count_5000                         int64  \n",
      " 273  trc_sqm_5000                           int64  \n",
      " 274  cafe_count_5000                        int64  \n",
      " 275  cafe_sum_5000_min_price_avg            float64\n",
      " 276  cafe_sum_5000_max_price_avg            float64\n",
      " 277  cafe_avg_price_5000                    float64\n",
      " 278  cafe_count_5000_na_price               int64  \n",
      " 279  cafe_count_5000_price_500              int64  \n",
      " 280  cafe_count_5000_price_1000             int64  \n",
      " 281  cafe_count_5000_price_1500             int64  \n",
      " 282  cafe_count_5000_price_2500             int64  \n",
      " 283  cafe_count_5000_price_4000             int64  \n",
      " 284  cafe_count_5000_price_high             int64  \n",
      " 285  big_church_count_5000                  int64  \n",
      " 286  church_count_5000                      int64  \n",
      " 287  mosque_count_5000                      int64  \n",
      " 288  leisure_count_5000                     int64  \n",
      " 289  sport_count_5000                       int64  \n",
      " 290  market_count_5000                      int64  \n",
      " 291  price_doc                              int64  \n",
      "dtypes: float64(119), int64(157), object(16)\n",
      "memory usage: 67.9+ MB\n"
     ]
    }
   ],
   "source": [
    "sberbank.info(verbose=True)"
   ]
  },
  {
   "cell_type": "markdown",
   "id": "d2a4ab39",
   "metadata": {},
   "source": [
    "### Easier way to tell the total count of columns and rows\n"
   ]
  },
  {
   "cell_type": "code",
   "execution_count": 74,
   "id": "7188d0d4",
   "metadata": {
    "scrolled": false
   },
   "outputs": [
    {
     "data": {
      "text/plain": [
       "(30471, 297)"
      ]
     },
     "execution_count": 74,
     "metadata": {},
     "output_type": "execute_result"
    }
   ],
   "source": [
    "sberbank.shape"
   ]
  },
  {
   "cell_type": "markdown",
   "id": "882d455d",
   "metadata": {},
   "source": [
    "### First 5 rows of the dataset"
   ]
  },
  {
   "cell_type": "code",
   "execution_count": 73,
   "id": "9ec8dee4",
   "metadata": {
    "scrolled": false
   },
   "outputs": [
    {
     "data": {
      "text/html": [
       "<div>\n",
       "<style scoped>\n",
       "    .dataframe tbody tr th:only-of-type {\n",
       "        vertical-align: middle;\n",
       "    }\n",
       "\n",
       "    .dataframe tbody tr th {\n",
       "        vertical-align: top;\n",
       "    }\n",
       "\n",
       "    .dataframe thead th {\n",
       "        text-align: right;\n",
       "    }\n",
       "</style>\n",
       "<table border=\"1\" class=\"dataframe\">\n",
       "  <thead>\n",
       "    <tr style=\"text-align: right;\">\n",
       "      <th></th>\n",
       "      <th>id</th>\n",
       "      <th>timestamp</th>\n",
       "      <th>full_sq</th>\n",
       "      <th>life_sq</th>\n",
       "      <th>floor</th>\n",
       "      <th>max_floor</th>\n",
       "      <th>material</th>\n",
       "      <th>build_year</th>\n",
       "      <th>num_room</th>\n",
       "      <th>kitch_sq</th>\n",
       "      <th>...</th>\n",
       "      <th>mosque_count_5000</th>\n",
       "      <th>leisure_count_5000</th>\n",
       "      <th>sport_count_5000</th>\n",
       "      <th>market_count_5000</th>\n",
       "      <th>price_doc</th>\n",
       "      <th>sub_area_lower</th>\n",
       "      <th>timestamp_dt</th>\n",
       "      <th>year</th>\n",
       "      <th>month</th>\n",
       "      <th>weekday</th>\n",
       "    </tr>\n",
       "  </thead>\n",
       "  <tbody>\n",
       "    <tr>\n",
       "      <th>0</th>\n",
       "      <td>1</td>\n",
       "      <td>2011-08-20</td>\n",
       "      <td>43</td>\n",
       "      <td>27.0</td>\n",
       "      <td>4.0</td>\n",
       "      <td>NaN</td>\n",
       "      <td>NaN</td>\n",
       "      <td>NaN</td>\n",
       "      <td>NaN</td>\n",
       "      <td>NaN</td>\n",
       "      <td>...</td>\n",
       "      <td>1</td>\n",
       "      <td>0</td>\n",
       "      <td>52</td>\n",
       "      <td>4</td>\n",
       "      <td>5850000</td>\n",
       "      <td>bibirevo</td>\n",
       "      <td>2011-08-20</td>\n",
       "      <td>2011</td>\n",
       "      <td>8</td>\n",
       "      <td>5</td>\n",
       "    </tr>\n",
       "    <tr>\n",
       "      <th>1</th>\n",
       "      <td>2</td>\n",
       "      <td>2011-08-23</td>\n",
       "      <td>34</td>\n",
       "      <td>19.0</td>\n",
       "      <td>3.0</td>\n",
       "      <td>NaN</td>\n",
       "      <td>NaN</td>\n",
       "      <td>NaN</td>\n",
       "      <td>NaN</td>\n",
       "      <td>NaN</td>\n",
       "      <td>...</td>\n",
       "      <td>1</td>\n",
       "      <td>10</td>\n",
       "      <td>66</td>\n",
       "      <td>14</td>\n",
       "      <td>6000000</td>\n",
       "      <td>nagatinskij zaton</td>\n",
       "      <td>2011-08-23</td>\n",
       "      <td>2011</td>\n",
       "      <td>8</td>\n",
       "      <td>1</td>\n",
       "    </tr>\n",
       "    <tr>\n",
       "      <th>2</th>\n",
       "      <td>3</td>\n",
       "      <td>2011-08-27</td>\n",
       "      <td>43</td>\n",
       "      <td>29.0</td>\n",
       "      <td>2.0</td>\n",
       "      <td>NaN</td>\n",
       "      <td>NaN</td>\n",
       "      <td>NaN</td>\n",
       "      <td>NaN</td>\n",
       "      <td>NaN</td>\n",
       "      <td>...</td>\n",
       "      <td>0</td>\n",
       "      <td>4</td>\n",
       "      <td>67</td>\n",
       "      <td>10</td>\n",
       "      <td>5700000</td>\n",
       "      <td>tekstil'shhiki</td>\n",
       "      <td>2011-08-27</td>\n",
       "      <td>2011</td>\n",
       "      <td>8</td>\n",
       "      <td>5</td>\n",
       "    </tr>\n",
       "    <tr>\n",
       "      <th>3</th>\n",
       "      <td>4</td>\n",
       "      <td>2011-09-01</td>\n",
       "      <td>89</td>\n",
       "      <td>50.0</td>\n",
       "      <td>9.0</td>\n",
       "      <td>NaN</td>\n",
       "      <td>NaN</td>\n",
       "      <td>NaN</td>\n",
       "      <td>NaN</td>\n",
       "      <td>NaN</td>\n",
       "      <td>...</td>\n",
       "      <td>0</td>\n",
       "      <td>0</td>\n",
       "      <td>26</td>\n",
       "      <td>3</td>\n",
       "      <td>13100000</td>\n",
       "      <td>mitino</td>\n",
       "      <td>2011-09-01</td>\n",
       "      <td>2011</td>\n",
       "      <td>9</td>\n",
       "      <td>3</td>\n",
       "    </tr>\n",
       "    <tr>\n",
       "      <th>4</th>\n",
       "      <td>5</td>\n",
       "      <td>2011-09-05</td>\n",
       "      <td>77</td>\n",
       "      <td>77.0</td>\n",
       "      <td>4.0</td>\n",
       "      <td>NaN</td>\n",
       "      <td>NaN</td>\n",
       "      <td>NaN</td>\n",
       "      <td>NaN</td>\n",
       "      <td>NaN</td>\n",
       "      <td>...</td>\n",
       "      <td>2</td>\n",
       "      <td>91</td>\n",
       "      <td>195</td>\n",
       "      <td>14</td>\n",
       "      <td>16331452</td>\n",
       "      <td>basmannoe</td>\n",
       "      <td>2011-09-05</td>\n",
       "      <td>2011</td>\n",
       "      <td>9</td>\n",
       "      <td>0</td>\n",
       "    </tr>\n",
       "  </tbody>\n",
       "</table>\n",
       "<p>5 rows × 297 columns</p>\n",
       "</div>"
      ],
      "text/plain": [
       "   id   timestamp  full_sq  life_sq  floor  max_floor  material  build_year  \\\n",
       "0   1  2011-08-20       43     27.0    4.0        NaN       NaN         NaN   \n",
       "1   2  2011-08-23       34     19.0    3.0        NaN       NaN         NaN   \n",
       "2   3  2011-08-27       43     29.0    2.0        NaN       NaN         NaN   \n",
       "3   4  2011-09-01       89     50.0    9.0        NaN       NaN         NaN   \n",
       "4   5  2011-09-05       77     77.0    4.0        NaN       NaN         NaN   \n",
       "\n",
       "   num_room  kitch_sq  ...  mosque_count_5000 leisure_count_5000  \\\n",
       "0       NaN       NaN  ...                  1                  0   \n",
       "1       NaN       NaN  ...                  1                 10   \n",
       "2       NaN       NaN  ...                  0                  4   \n",
       "3       NaN       NaN  ...                  0                  0   \n",
       "4       NaN       NaN  ...                  2                 91   \n",
       "\n",
       "  sport_count_5000  market_count_5000  price_doc     sub_area_lower  \\\n",
       "0               52                  4    5850000           bibirevo   \n",
       "1               66                 14    6000000  nagatinskij zaton   \n",
       "2               67                 10    5700000     tekstil'shhiki   \n",
       "3               26                  3   13100000             mitino   \n",
       "4              195                 14   16331452          basmannoe   \n",
       "\n",
       "   timestamp_dt  year  month  weekday  \n",
       "0    2011-08-20  2011      8        5  \n",
       "1    2011-08-23  2011      8        1  \n",
       "2    2011-08-27  2011      8        5  \n",
       "3    2011-09-01  2011      9        3  \n",
       "4    2011-09-05  2011      9        0  \n",
       "\n",
       "[5 rows x 297 columns]"
      ]
     },
     "execution_count": 73,
     "metadata": {},
     "output_type": "execute_result"
    }
   ],
   "source": [
    "sberbank.head(5)"
   ]
  },
  {
   "cell_type": "markdown",
   "id": "b32cb932",
   "metadata": {},
   "source": [
    "### Last 5 rows of the dataset"
   ]
  },
  {
   "cell_type": "code",
   "execution_count": 80,
   "id": "5a69c3cc",
   "metadata": {},
   "outputs": [
    {
     "data": {
      "text/html": [
       "<div>\n",
       "<style scoped>\n",
       "    .dataframe tbody tr th:only-of-type {\n",
       "        vertical-align: middle;\n",
       "    }\n",
       "\n",
       "    .dataframe tbody tr th {\n",
       "        vertical-align: top;\n",
       "    }\n",
       "\n",
       "    .dataframe thead th {\n",
       "        text-align: right;\n",
       "    }\n",
       "</style>\n",
       "<table border=\"1\" class=\"dataframe\">\n",
       "  <thead>\n",
       "    <tr style=\"text-align: right;\">\n",
       "      <th></th>\n",
       "      <th>id</th>\n",
       "      <th>timestamp</th>\n",
       "      <th>full_sq</th>\n",
       "      <th>life_sq</th>\n",
       "      <th>floor</th>\n",
       "      <th>max_floor</th>\n",
       "      <th>material</th>\n",
       "      <th>build_year</th>\n",
       "      <th>num_room</th>\n",
       "      <th>kitch_sq</th>\n",
       "      <th>...</th>\n",
       "      <th>mosque_count_5000</th>\n",
       "      <th>leisure_count_5000</th>\n",
       "      <th>sport_count_5000</th>\n",
       "      <th>market_count_5000</th>\n",
       "      <th>price_doc</th>\n",
       "      <th>sub_area_lower</th>\n",
       "      <th>timestamp_dt</th>\n",
       "      <th>year</th>\n",
       "      <th>month</th>\n",
       "      <th>weekday</th>\n",
       "    </tr>\n",
       "  </thead>\n",
       "  <tbody>\n",
       "    <tr>\n",
       "      <th>30466</th>\n",
       "      <td>30469</td>\n",
       "      <td>2015-06-30</td>\n",
       "      <td>44</td>\n",
       "      <td>27.0</td>\n",
       "      <td>7.0</td>\n",
       "      <td>9.0</td>\n",
       "      <td>1.0</td>\n",
       "      <td>1975.0</td>\n",
       "      <td>2.0</td>\n",
       "      <td>6.0</td>\n",
       "      <td>...</td>\n",
       "      <td>1</td>\n",
       "      <td>2</td>\n",
       "      <td>84</td>\n",
       "      <td>6</td>\n",
       "      <td>7400000</td>\n",
       "      <td>otradnoe</td>\n",
       "      <td>2015-06-30</td>\n",
       "      <td>2015</td>\n",
       "      <td>6</td>\n",
       "      <td>1</td>\n",
       "    </tr>\n",
       "    <tr>\n",
       "      <th>30467</th>\n",
       "      <td>30470</td>\n",
       "      <td>2015-06-30</td>\n",
       "      <td>86</td>\n",
       "      <td>59.0</td>\n",
       "      <td>3.0</td>\n",
       "      <td>9.0</td>\n",
       "      <td>2.0</td>\n",
       "      <td>1935.0</td>\n",
       "      <td>4.0</td>\n",
       "      <td>10.0</td>\n",
       "      <td>...</td>\n",
       "      <td>1</td>\n",
       "      <td>82</td>\n",
       "      <td>171</td>\n",
       "      <td>15</td>\n",
       "      <td>25000000</td>\n",
       "      <td>tverskoe</td>\n",
       "      <td>2015-06-30</td>\n",
       "      <td>2015</td>\n",
       "      <td>6</td>\n",
       "      <td>1</td>\n",
       "    </tr>\n",
       "    <tr>\n",
       "      <th>30468</th>\n",
       "      <td>30471</td>\n",
       "      <td>2015-06-30</td>\n",
       "      <td>45</td>\n",
       "      <td>NaN</td>\n",
       "      <td>10.0</td>\n",
       "      <td>20.0</td>\n",
       "      <td>1.0</td>\n",
       "      <td>NaN</td>\n",
       "      <td>1.0</td>\n",
       "      <td>1.0</td>\n",
       "      <td>...</td>\n",
       "      <td>0</td>\n",
       "      <td>1</td>\n",
       "      <td>11</td>\n",
       "      <td>1</td>\n",
       "      <td>6970959</td>\n",
       "      <td>poselenie vnukovskoe</td>\n",
       "      <td>2015-06-30</td>\n",
       "      <td>2015</td>\n",
       "      <td>6</td>\n",
       "      <td>1</td>\n",
       "    </tr>\n",
       "    <tr>\n",
       "      <th>30469</th>\n",
       "      <td>30472</td>\n",
       "      <td>2015-06-30</td>\n",
       "      <td>64</td>\n",
       "      <td>32.0</td>\n",
       "      <td>5.0</td>\n",
       "      <td>15.0</td>\n",
       "      <td>1.0</td>\n",
       "      <td>2003.0</td>\n",
       "      <td>2.0</td>\n",
       "      <td>11.0</td>\n",
       "      <td>...</td>\n",
       "      <td>1</td>\n",
       "      <td>4</td>\n",
       "      <td>65</td>\n",
       "      <td>7</td>\n",
       "      <td>13500000</td>\n",
       "      <td>obruchevskoe</td>\n",
       "      <td>2015-06-30</td>\n",
       "      <td>2015</td>\n",
       "      <td>6</td>\n",
       "      <td>1</td>\n",
       "    </tr>\n",
       "    <tr>\n",
       "      <th>30470</th>\n",
       "      <td>30473</td>\n",
       "      <td>2015-06-30</td>\n",
       "      <td>43</td>\n",
       "      <td>28.0</td>\n",
       "      <td>1.0</td>\n",
       "      <td>9.0</td>\n",
       "      <td>1.0</td>\n",
       "      <td>1968.0</td>\n",
       "      <td>2.0</td>\n",
       "      <td>6.0</td>\n",
       "      <td>...</td>\n",
       "      <td>0</td>\n",
       "      <td>9</td>\n",
       "      <td>54</td>\n",
       "      <td>10</td>\n",
       "      <td>5600000</td>\n",
       "      <td>novogireevo</td>\n",
       "      <td>2015-06-30</td>\n",
       "      <td>2015</td>\n",
       "      <td>6</td>\n",
       "      <td>1</td>\n",
       "    </tr>\n",
       "  </tbody>\n",
       "</table>\n",
       "<p>5 rows × 297 columns</p>\n",
       "</div>"
      ],
      "text/plain": [
       "          id   timestamp  full_sq  life_sq  floor  max_floor  material  \\\n",
       "30466  30469  2015-06-30       44     27.0    7.0        9.0       1.0   \n",
       "30467  30470  2015-06-30       86     59.0    3.0        9.0       2.0   \n",
       "30468  30471  2015-06-30       45      NaN   10.0       20.0       1.0   \n",
       "30469  30472  2015-06-30       64     32.0    5.0       15.0       1.0   \n",
       "30470  30473  2015-06-30       43     28.0    1.0        9.0       1.0   \n",
       "\n",
       "       build_year  num_room  kitch_sq  ...  mosque_count_5000  \\\n",
       "30466      1975.0       2.0       6.0  ...                  1   \n",
       "30467      1935.0       4.0      10.0  ...                  1   \n",
       "30468         NaN       1.0       1.0  ...                  0   \n",
       "30469      2003.0       2.0      11.0  ...                  1   \n",
       "30470      1968.0       2.0       6.0  ...                  0   \n",
       "\n",
       "      leisure_count_5000 sport_count_5000  market_count_5000  price_doc  \\\n",
       "30466                  2               84                  6    7400000   \n",
       "30467                 82              171                 15   25000000   \n",
       "30468                  1               11                  1    6970959   \n",
       "30469                  4               65                  7   13500000   \n",
       "30470                  9               54                 10    5600000   \n",
       "\n",
       "             sub_area_lower  timestamp_dt  year  month  weekday  \n",
       "30466              otradnoe    2015-06-30  2015      6        1  \n",
       "30467              tverskoe    2015-06-30  2015      6        1  \n",
       "30468  poselenie vnukovskoe    2015-06-30  2015      6        1  \n",
       "30469          obruchevskoe    2015-06-30  2015      6        1  \n",
       "30470           novogireevo    2015-06-30  2015      6        1  \n",
       "\n",
       "[5 rows x 297 columns]"
      ]
     },
     "execution_count": 80,
     "metadata": {},
     "output_type": "execute_result"
    }
   ],
   "source": [
    "sberbank.tail()"
   ]
  },
  {
   "cell_type": "markdown",
   "id": "b1dcfff6",
   "metadata": {},
   "source": [
    "### Grouping all columns that has a Numeric Data type\n",
    "_Var: \"numeric_cols\"_"
   ]
  },
  {
   "cell_type": "code",
   "execution_count": 76,
   "id": "a4eab34d",
   "metadata": {},
   "outputs": [
    {
     "name": "stdout",
     "output_type": "stream",
     "text": [
      "Index(['id', 'full_sq', 'life_sq', 'floor', 'max_floor', 'material',\n",
      "       'build_year', 'num_room', 'kitch_sq', 'state',\n",
      "       ...\n",
      "       'big_church_count_5000', 'church_count_5000', 'mosque_count_5000',\n",
      "       'leisure_count_5000', 'sport_count_5000', 'market_count_5000',\n",
      "       'price_doc', 'year', 'month', 'weekday'],\n",
      "      dtype='object', length=279)\n"
     ]
    }
   ],
   "source": [
    "numeric_cols = sberbank.select_dtypes(include=['number']).columns\n",
    "print(numeric_cols)"
   ]
  },
  {
   "cell_type": "markdown",
   "id": "27e1c302",
   "metadata": {},
   "source": [
    "### Grouping all columns that has a Non-Numeric Data type\n",
    "_Var: \"non_numeric_cols\"_"
   ]
  },
  {
   "cell_type": "code",
   "execution_count": 105,
   "id": "b8bb130f",
   "metadata": {
    "scrolled": true
   },
   "outputs": [
    {
     "name": "stdout",
     "output_type": "stream",
     "text": [
      "Index(['timestamp', 'product_type', 'sub_area', 'culture_objects_top_25',\n",
      "       'thermal_power_plant_raion', 'incineration_raion',\n",
      "       'oil_chemistry_raion', 'radiation_raion', 'railroad_terminal_raion',\n",
      "       'big_market_raion', 'nuclear_reactor_raion', 'detention_facility_raion',\n",
      "       'water_1line', 'big_road1_1line', 'railroad_1line', 'ecology',\n",
      "       'sub_area_lower', 'timestamp_dt'],\n",
      "      dtype='object')\n"
     ]
    }
   ],
   "source": [
    "non_numeric_cols = sberbank.select_dtypes(exclude=['number']).columns\n",
    "print(non_numeric_cols)\n"
   ]
  },
  {
   "cell_type": "markdown",
   "id": "76b82c43",
   "metadata": {},
   "source": [
    "# 3. Missing data\n",
    "Missing data or missing values are when there’s no data value stored for a column in a row. It is very common among real-world datasets. If not handled properly, they would significantly impact the results of data analysis. Many machine learning models can’t tolerate any missing values. So, we must learn how to handle missing data.\n",
    "\n",
    "#### How to find out?\n",
    "Before cleaning missing data, we need to learn how to detect it. We’ll cover 3 methods in Python.\n",
    "\n",
    "1. Method #1: missing data (by columns) count & percentage\n",
    "2. Method #2: missing data (by columns) heatmap\n",
    "3. Method #3: missing data (by rows) histogram"
   ]
  },
  {
   "cell_type": "markdown",
   "id": "27a9127e",
   "metadata": {},
   "source": [
    "## Method #1: missing data (by columns) count & percentage\n",
    "This is the most basic method to detect missing data among columns.\n",
    "\n",
    "The info method that we’ve used earlier includes this information. For example, we print out the summary of all the non-numeric columns below. Note that we are not printing for the entire DataFrame df since there are too many columns.\n",
    "\n",
    "###### By looking at the Non-Null Count, we can spot the number of missing data by columns. For our example, all non-null counts are 30,471, the same as the total number of rows, so there are no missing data among the non-numeric columns!"
   ]
  },
  {
   "cell_type": "code",
   "execution_count": 107,
   "id": "f1a5e4b9",
   "metadata": {},
   "outputs": [
    {
     "name": "stdout",
     "output_type": "stream",
     "text": [
      "<class 'pandas.core.frame.DataFrame'>\n",
      "RangeIndex: 30471 entries, 0 to 30470\n",
      "Data columns (total 18 columns):\n",
      " #   Column                     Non-Null Count  Dtype         \n",
      "---  ------                     --------------  -----         \n",
      " 0   timestamp                  30471 non-null  object        \n",
      " 1   product_type               30471 non-null  object        \n",
      " 2   sub_area                   30471 non-null  object        \n",
      " 3   culture_objects_top_25     30471 non-null  object        \n",
      " 4   thermal_power_plant_raion  30471 non-null  object        \n",
      " 5   incineration_raion         30471 non-null  object        \n",
      " 6   oil_chemistry_raion        30471 non-null  object        \n",
      " 7   radiation_raion            30471 non-null  object        \n",
      " 8   railroad_terminal_raion    30471 non-null  object        \n",
      " 9   big_market_raion           30471 non-null  object        \n",
      " 10  nuclear_reactor_raion      30471 non-null  object        \n",
      " 11  detention_facility_raion   30471 non-null  object        \n",
      " 12  water_1line                30471 non-null  object        \n",
      " 13  big_road1_1line            30471 non-null  object        \n",
      " 14  railroad_1line             30471 non-null  object        \n",
      " 15  ecology                    30471 non-null  object        \n",
      " 16  sub_area_lower             30471 non-null  object        \n",
      " 17  timestamp_dt               30471 non-null  datetime64[ns]\n",
      "dtypes: datetime64[ns](1), object(17)\n",
      "memory usage: 4.2+ MB\n"
     ]
    }
   ],
   "source": [
    "sberbank[non_numeric_cols].info()"
   ]
  },
  {
   "cell_type": "markdown",
   "id": "ea05f6d9",
   "metadata": {},
   "source": [
    "### Storing the total number of missing values in each column[First 15 rows].\n",
    "We can see that the columns id, timestamp, full_sq has 0 missing data. While life_sq has 6,383 missing values, floor has 167 missing values, and so on.\n",
    "_Var: \"num_missing\"_"
   ]
  },
  {
   "cell_type": "code",
   "execution_count": 109,
   "id": "94adccd0",
   "metadata": {},
   "outputs": [
    {
     "data": {
      "text/plain": [
       "id                  0\n",
       "timestamp           0\n",
       "full_sq             0\n",
       "life_sq          6383\n",
       "floor             167\n",
       "max_floor        9572\n",
       "material         9572\n",
       "build_year      13605\n",
       "num_room         9572\n",
       "kitch_sq         9572\n",
       "state           13559\n",
       "product_type        0\n",
       "sub_area            0\n",
       "area_m              0\n",
       "raion_popul         0\n",
       "dtype: int64"
      ]
     },
     "execution_count": 109,
     "metadata": {},
     "output_type": "execute_result"
    }
   ],
   "source": [
    "num_missing = sberbank.isna().sum()\n",
    "num_missing[:15]"
   ]
  },
  {
   "cell_type": "markdown",
   "id": "986ea899",
   "metadata": {},
   "source": [
    "### Calculating the percentages of missing values by columns[First 15 rows].\n",
    "we see that the column life_sq has aabout 21% of its data missing, the column floor has about  0.005% missing.\n",
    "columns that has zero percentage has no value missing\n",
    "_Var: \"pct_missing\"_"
   ]
  },
  {
   "cell_type": "code",
   "execution_count": 123,
   "id": "e02ed861",
   "metadata": {},
   "outputs": [
    {
     "data": {
      "text/plain": [
       "id              0.000000\n",
       "timestamp       0.000000\n",
       "full_sq         0.000000\n",
       "life_sq         0.209478\n",
       "floor           0.005481\n",
       "max_floor       0.314135\n",
       "material        0.314135\n",
       "build_year      0.446490\n",
       "num_room        0.314135\n",
       "kitch_sq        0.314135\n",
       "state           0.444980\n",
       "product_type    0.000000\n",
       "sub_area        0.000000\n",
       "area_m          0.000000\n",
       "raion_popul     0.000000\n",
       "dtype: float64"
      ]
     },
     "execution_count": 123,
     "metadata": {},
     "output_type": "execute_result"
    }
   ],
   "source": [
    "pct_missing = sberbank.isna().mean()\n",
    "pct_missing[:15]"
   ]
  },
  {
   "cell_type": "markdown",
   "id": "084cf165",
   "metadata": {},
   "source": [
    "## Method #2: missing data (by columns) heatmap\n",
    "##### Seaborn: The seaborn library is a popular statistical data visualization library. Let’s first use it to plot the missing data heatmap.\n",
    "_Lib: seaborn and missingno._"
   ]
  },
  {
   "cell_type": "code",
   "execution_count": 112,
   "id": "a966d4aa",
   "metadata": {},
   "outputs": [],
   "source": [
    "import seaborn as sns\n",
    "import matplotlib.pyplot as plt"
   ]
  },
  {
   "cell_type": "markdown",
   "id": "dcc0380b",
   "metadata": {},
   "source": [
    "### Building a heatmap to visualize the missing data. This technique is proper when you have a smaller number of columns.\n",
    "Based on the heatmap below, we can learn the pattern of missing data for the first 30 columns. The horizontal axis shows the column names; the vertical axis shows the number of rows; the yellow color represents the missing data while the blue color is otherwise.\n",
    "\n",
    "For example, the column life_sq has missing values across different rows. While the column max_floor has most of its missing values before ~10,000 rows. These patterns can potentially help us understand the reason for data being missing."
   ]
  },
  {
   "cell_type": "code",
   "execution_count": 114,
   "id": "a42c8813",
   "metadata": {},
   "outputs": [
    {
     "data": {
      "text/plain": [
       "<AxesSubplot:>"
      ]
     },
     "execution_count": 114,
     "metadata": {},
     "output_type": "execute_result"
    },
    {
     "data": {
      "image/png": "[encoded data removed]",
      "text/plain": [
       "<Figure size 1000x800 with 2 Axes>"
      ]
     },
     "metadata": {},
     "output_type": "display_data"
    }
   ],
   "source": [
    "plt.figure(figsize=(10,8))\n",
    "cols = sberbank.columns[:30]\n",
    "colours = ['#000099', '#ffff00'] # specify colours: yellow - missing. blue - not missing\n",
    "sns.heatmap(sberbank[cols].isna(), cmap=sns.color_palette(colours))"
   ]
  },
  {
   "cell_type": "markdown",
   "id": "de8b5566",
   "metadata": {},
   "source": [
    "###  Missingno -> The missingno library is a small toolset focused on missing data visualizations and utilities. So you can get the same missing data heatmap as above with shorter code.\n",
    "_Lib: Missingno_"
   ]
  },
  {
   "cell_type": "code",
   "execution_count": 13,
   "id": "82c83a3b",
   "metadata": {
    "scrolled": true
   },
   "outputs": [
    {
     "data": {
      "text/plain": [
       "<AxesSubplot:>"
      ]
     },
     "execution_count": 13,
     "metadata": {},
     "output_type": "execute_result"
    },
    {
     "data": {
      "image/png": "[encoded data removed]",
      "text/plain": [
       "<Figure size 2500x1000 with 2 Axes>"
      ]
     },
     "metadata": {},
     "output_type": "display_data"
    }
   ],
   "source": [
    "import missingno as msno\n",
    "\n",
    "import missingno as msno\n",
    "msno.matrix(sberbank.iloc[:, :30])"
   ]
  },
  {
   "cell_type": "markdown",
   "id": "e3ced17b",
   "metadata": {},
   "source": [
    "## Method #3: missing data (by rows) histogram\n",
    "Summarizing the missing data by rows. Missing data histogram is a technique for summarizing such information.\n",
    "\n",
    "This histogram helps to identify the missing patterns among the 30,471 observations. For example, there are over 6,000 observations with no missing values, and close to 4,000 observations with 1 missing value."
   ]
  },
  {
   "cell_type": "code",
   "execution_count": 14,
   "id": "d66be0f4",
   "metadata": {},
   "outputs": [
    {
     "data": {
      "text/plain": [
       "<AxesSubplot:>"
      ]
     },
     "execution_count": 14,
     "metadata": {},
     "output_type": "execute_result"
    },
    {
     "data": {
      "image/png": "[encoded data removed]",
      "text/plain": [
       "<Figure size 640x480 with 1 Axes>"
      ]
     },
     "metadata": {},
     "output_type": "display_data"
    }
   ],
   "source": [
    "missing_by_row = sberbank.isna().sum(axis='columns')\n",
    "missing_by_row.hist(bins=50)"
   ]
  },
  {
   "cell_type": "markdown",
   "id": "4fcc1adb",
   "metadata": {},
   "source": [
    "## Method #3: Technique #1: drop columns / features\n",
    "This technique is straightforward. We drop the entire column or feature with missing data, which will certainly cause a loss of information. So we should only perform this when we are sure that the missing data is not informative. Otherwise, we should consider other solutions.\n",
    "\n",
    "Since we have lots of columns with missing data (51 out of 292), let’s not drop all of them. Let’s consider the columns with a high percentage of missing.\n",
    "\n",
    "Based on the previous code, pct_missing stores the list of columns and their missing data percentages. What are the columns with over 30% missing data?"
   ]
  },
  {
   "cell_type": "markdown",
   "id": "4cb36971",
   "metadata": {},
   "source": [
    "### There are 10 columns with over 30% of their data missing."
   ]
  },
  {
   "cell_type": "code",
   "execution_count": 118,
   "id": "29fb5eb3",
   "metadata": {
    "scrolled": false
   },
   "outputs": [
    {
     "data": {
      "text/plain": [
       "max_floor                     0.314135\n",
       "material                      0.314135\n",
       "build_year                    0.446490\n",
       "num_room                      0.314135\n",
       "kitch_sq                      0.314135\n",
       "state                         0.444980\n",
       "hospital_beds_raion           0.473926\n",
       "cafe_sum_500_min_price_avg    0.435857\n",
       "cafe_sum_500_max_price_avg    0.435857\n",
       "cafe_avg_price_500            0.435857\n",
       "dtype: float64"
      ]
     },
     "execution_count": 118,
     "metadata": {},
     "output_type": "execute_result"
    }
   ],
   "source": [
    "pct_missing[pct_missing > .3]"
   ]
  },
  {
   "cell_type": "markdown",
   "id": "3252f068",
   "metadata": {},
   "source": [
    "### Filtering for columns with less than or 30% missing data then apply the copy method to make a copy to the new DataFrame sberbank_less_missing_cols"
   ]
  },
  {
   "cell_type": "code",
   "execution_count": 124,
   "id": "d2bcce03",
   "metadata": {},
   "outputs": [],
   "source": [
    "sberbank_less_missing_cols = sberbank.loc[:, pct_missing <= .3].copy() \n",
    "# equivalent to sberbank.drop(columns=pct_missing[pct_missing > .3].index)\n"
   ]
  },
  {
   "cell_type": "markdown",
   "id": "54354921",
   "metadata": {},
   "source": [
    "### The \"sberbank_less_missing_cols\" DataFrame has the same number of rows as the original DataFrame, but only 282 columns. So we’ve successfully removed those 10 columns that have more than 30% missing."
   ]
  },
  {
   "cell_type": "code",
   "execution_count": 126,
   "id": "d153d3f6",
   "metadata": {},
   "outputs": [
    {
     "data": {
      "text/plain": [
       "(30471, 287)"
      ]
     },
     "execution_count": 126,
     "metadata": {},
     "output_type": "execute_result"
    }
   ],
   "source": [
    "sberbank_less_missing_cols.shape"
   ]
  },
  {
   "cell_type": "markdown",
   "id": "a5b6e27d",
   "metadata": {},
   "source": [
    "## Method #3:Technique #2: drop rows / observations"
   ]
  },
  {
   "cell_type": "markdown",
   "id": "b6b6dc38",
   "metadata": {},
   "source": [
    "Only a small amount of observations have over 35 columns all missing. We can create a new dataset sberbank_less_missing_rows to only keep observations with less than 35 missing columns.\n",
    "\n",
    "This will removed 1,169 rows from the original dataset."
   ]
  },
  {
   "cell_type": "code",
   "execution_count": 21,
   "id": "a48d6041",
   "metadata": {},
   "outputs": [
    {
     "data": {
      "text/plain": [
       "(29302, 292)"
      ]
     },
     "execution_count": 21,
     "metadata": {},
     "output_type": "execute_result"
    }
   ],
   "source": [
    "sberbank_less_missing_rows = sberbank[missing_by_row < 35].copy()\n",
    "sberbank_less_missing_rows.shape # equivalent to df.dropna(axis='index', thresh=292-35+1).shape"
   ]
  },
  {
   "cell_type": "markdown",
   "id": "007ac057",
   "metadata": {},
   "source": [
    "## Method #3: _Technique #3: impute the missing with constant values_\n",
    "Imputing the numeric columns with a value of -999 and imputing the non-numeric columns with ‘_MISSING_’."
   ]
  },
  {
   "cell_type": "code",
   "execution_count": null,
   "id": "00b1162b",
   "metadata": {},
   "outputs": [],
   "source": [
    "sberbank_copy = sberbank.copy()\n",
    "sberbank_copy[numeric_cols] = sberbank_copy[numeric_cols].fillna(-999)\n",
    "sberbank_copy[non_numeric_cols] = sberbank_copy[non_numeric_cols].fillna('_MISSING_')"
   ]
  },
  {
   "cell_type": "markdown",
   "id": "4fa3b094",
   "metadata": {},
   "source": [
    "## Method #3: Technique #4: impute the missing with statistics\n",
    "Besides constants, we can also impute the missing values with statistics. For example, we can impute the numeric columns with their respective medians."
   ]
  },
  {
   "cell_type": "code",
   "execution_count": 26,
   "id": "74a0e52c",
   "metadata": {},
   "outputs": [],
   "source": [
    "sberbank_copy = sberbank.copy()\n",
    "med = sberbank_copy[numeric_cols].median()\n",
    "sberbank_copy[numeric_cols] = sberbank_copy[numeric_cols].fillna(med)"
   ]
  },
  {
   "cell_type": "markdown",
   "id": "a6f3da5a",
   "metadata": {},
   "source": [
    "### Locating all the non-numeric columns with their most frequent values.\n",
    "The variable \"most_freq\" stores the most common values for each non-numeric column."
   ]
  },
  {
   "cell_type": "code",
   "execution_count": 28,
   "id": "e9bc787d",
   "metadata": {
    "scrolled": true
   },
   "outputs": [
    {
     "data": {
      "text/plain": [
       "timestamp                             2014-12-16\n",
       "product_type                          Investment\n",
       "sub_area                     Poselenie Sosenskoe\n",
       "culture_objects_top_25                        no\n",
       "thermal_power_plant_raion                     no\n",
       "incineration_raion                            no\n",
       "oil_chemistry_raion                           no\n",
       "radiation_raion                               no\n",
       "railroad_terminal_raion                       no\n",
       "big_market_raion                              no\n",
       "nuclear_reactor_raion                         no\n",
       "detention_facility_raion                      no\n",
       "water_1line                                   no\n",
       "big_road1_1line                               no\n",
       "railroad_1line                                no\n",
       "ecology                                     poor\n",
       "Name: top, dtype: object"
      ]
     },
     "execution_count": 28,
     "metadata": {},
     "output_type": "execute_result"
    }
   ],
   "source": [
    "most_freq = sberbank_copy[non_numeric_cols].describe().loc['top']\n",
    "most_freq"
   ]
  },
  {
   "cell_type": "markdown",
   "id": "1ad81094",
   "metadata": {},
   "source": [
    "### Imputing missing data in all non-numeric columns with their most frequent values."
   ]
  },
  {
   "cell_type": "code",
   "execution_count": 29,
   "id": "a8087ad6",
   "metadata": {},
   "outputs": [],
   "source": [
    "sberbank_copy[non_numeric_cols] = sberbank_copy[non_numeric_cols].fillna(most_freq)"
   ]
  },
  {
   "cell_type": "markdown",
   "id": "1c6c0899",
   "metadata": {},
   "source": [
    "### Note: As previously shown, the dataset doesn’t have any missing values for the \"non-numeric columns\". So this step above made no impact to the dataset."
   ]
  },
  {
   "cell_type": "markdown",
   "id": "2e261ecd",
   "metadata": {},
   "source": [
    "# 4. Irregular data (outliers)\n",
    "Outliers are data that is distinct from other observations. They could bias our data analysis results, providing a misleading representation of the data. Outliers could be real outliers or mistakes."
   ]
  },
  {
   "cell_type": "markdown",
   "id": "3b8ef274",
   "metadata": {},
   "source": [
    "## Method #1: descriptive statistics \n",
    "##### Using Kurtosis\n",
    "Kurtosis is a statistical measure of ‘tailedness’. The higher kurtosis is often linked to the greater extremity of deviations (or outliers) in the data. So this is a single statistic to detect potential outliers.\n",
    "\n",
    "##### Among the first 10 columns, we can see that life_sq has the highest kurtosis value. But note that the high value of kurtosis doesn’t guarantee outliers. So we’ll investigate this column more soon."
   ]
  },
  {
   "cell_type": "code",
   "execution_count": 32,
   "id": "b63fe5f1",
   "metadata": {},
   "outputs": [
    {
     "data": {
      "text/plain": [
       "id               -1.199940\n",
       "full_sq       12128.727462\n",
       "life_sq       17058.409645\n",
       "floor             1.731182\n",
       "max_floor         6.595262\n",
       "material          1.358512\n",
       "build_year    16865.716093\n",
       "num_room         13.292374\n",
       "kitch_sq       4680.043742\n",
       "state            88.399730\n",
       "dtype: float64"
      ]
     },
     "execution_count": 32,
     "metadata": {},
     "output_type": "execute_result"
    }
   ],
   "source": [
    "sberbank.kurt(numeric_only=True)[:10]"
   ]
  },
  {
   "cell_type": "markdown",
   "id": "857f6915",
   "metadata": {},
   "source": [
    "### Besides the kurtosis, we could look at the column’s common descriptive statistics.\n",
    "For the column life_sq, we can see that the maximum value is 7,478, while the 75th percentile is only 43. The maximum value is an outlier."
   ]
  },
  {
   "cell_type": "code",
   "execution_count": 34,
   "id": "26934da2",
   "metadata": {},
   "outputs": [
    {
     "data": {
      "text/plain": [
       "count    24088.000000\n",
       "mean        34.403271\n",
       "std         52.285733\n",
       "min          0.000000\n",
       "25%         20.000000\n",
       "50%         30.000000\n",
       "75%         43.000000\n",
       "max       7478.000000\n",
       "Name: life_sq, dtype: float64"
      ]
     },
     "execution_count": 34,
     "metadata": {},
     "output_type": "execute_result"
    }
   ],
   "source": [
    "sberbank['life_sq'].describe()"
   ]
  },
  {
   "cell_type": "markdown",
   "id": "ead40b17",
   "metadata": {},
   "source": [
    "# Method #2: histogram & box plot\n",
    "Using data visualization method to detect outliers.  \n",
    "Plotting a histogram and a box plot of the column \"life_sq\"."
   ]
  },
  {
   "cell_type": "markdown",
   "id": "32667f6b",
   "metadata": {},
   "source": [
    "### From the histogram, we can see that the data is highly skewed with the possible existence of outliers. But due to the low frequency, we can’t see the exact location of the outliers and the counts."
   ]
  },
  {
   "cell_type": "code",
   "execution_count": 134,
   "id": "67834f11",
   "metadata": {
    "scrolled": true
   },
   "outputs": [
    {
     "data": {
      "text/plain": [
       "<AxesSubplot:>"
      ]
     },
     "execution_count": 134,
     "metadata": {},
     "output_type": "execute_result"
    },
    {
     "data": {
      "image/png": "[encoded data removed]",
      "text/plain": [
       "<Figure size 640x480 with 1 Axes>"
      ]
     },
     "metadata": {},
     "output_type": "display_data"
    }
   ],
   "source": [
    "sberbank['life_sq'].hist(bins=100)\n"
   ]
  },
  {
   "cell_type": "markdown",
   "id": "edbce761",
   "metadata": {},
   "source": [
    "### From the box plot, we get a more clear view of the outliers. There is an outlier with a value of over 7,000. In fact, all the dots on the plot are considered outliers by the box plot definition."
   ]
  },
  {
   "cell_type": "code",
   "execution_count": 135,
   "id": "75f51d2e",
   "metadata": {},
   "outputs": [
    {
     "data": {
      "text/plain": [
       "<AxesSubplot:>"
      ]
     },
     "execution_count": 135,
     "metadata": {},
     "output_type": "execute_result"
    },
    {
     "data": {
      "image/png": "[encoded data removed]",
      "text/plain": [
       "<Figure size 640x480 with 1 Axes>"
      ]
     },
     "metadata": {},
     "output_type": "display_data"
    }
   ],
   "source": [
    "sberbank.boxplot(column=['life_sq'])"
   ]
  },
  {
   "cell_type": "markdown",
   "id": "505e4621",
   "metadata": {},
   "source": [
    "# Method #3: bar chart\n",
    "Outliers are mainly defined for numeric data. But for non-numeric data, there could be irregular values too. We can use a bar chart to learn about the categories and their distributions."
   ]
  },
  {
   "cell_type": "markdown",
   "id": "9e8f765b",
   "metadata": {},
   "source": [
    "### The column ecology has a reasonable distribution but if there is a category with only one value called ‘extraordinary’, that could be considered an ‘outlier’."
   ]
  },
  {
   "cell_type": "code",
   "execution_count": 37,
   "id": "68aa05d4",
   "metadata": {},
   "outputs": [
    {
     "data": {
      "text/plain": [
       "<AxesSubplot:>"
      ]
     },
     "execution_count": 37,
     "metadata": {},
     "output_type": "execute_result"
    },
    {
     "data": {
      "image/png": "[encoded data removed]",
      "text/plain": [
       "<Figure size 640x480 with 1 Axes>"
      ]
     },
     "metadata": {},
     "output_type": "display_data"
    }
   ],
   "source": [
    "sberbank['ecology'].value_counts().plot(kind='bar')"
   ]
  },
  {
   "cell_type": "markdown",
   "id": "47a9ad2d",
   "metadata": {},
   "source": [
    "### Note: While outliers are not hard to see, it is tricky to clean them. It depends on the dataset and the goal of the project.The methods of handling outliers are somewhat similar to missing data. We could drop, replace, or even just keep them."
   ]
  },
  {
   "cell_type": "markdown",
   "id": "46c721c2",
   "metadata": {},
   "source": [
    "# 5. Unnecessary data\n",
    "All the data included in the analysis should support the project’s goal. We consider the data to be unnecessary when it doesn’t add value. 3 main types of unnecessary data:\n",
    "1. Repetitive & uninformative\n",
    "2. Irrelevant\n",
    "3. Duplicates"
   ]
  },
  {
   "cell_type": "markdown",
   "id": "162aca4a",
   "metadata": {},
   "source": [
    "## Unnecessary type #1: repetitive & uninformative\n",
    "One column can have many observations being the same value. When an extremely high percentage of the column has a repetitive value, we should investigate whether such a column provides valuable information.\n",
    "##### How to find out?\n",
    "We can generate a list of columns with a high percentage of the same value. For example, we specify below to show columns with over 99.9% rows being the same value.\n",
    "##### What to do?\n",
    "If there is one column with a high percentage of the same value, we should look into it to see if it’s informative. We can drop them when they are not, e.g., when the column has 100% being the same value."
   ]
  },
  {
   "cell_type": "code",
   "execution_count": 43,
   "id": "89d4697a",
   "metadata": {},
   "outputs": [],
   "source": [
    "num_rows = len(sberbank)\n",
    "\n",
    "for col in sberbank.columns:\n",
    "    cnts = sberbank[col].value_counts(dropna=False)\n",
    "    top_pct = (cnts/num_rows).iloc[0]\n",
    "    \n",
    "    if top_pct > 0.999:\n",
    "        print('{0}: {1:.2f}%'.format(col, top_pct*100))\n",
    "        print(cnts)\n",
    "        print()"
   ]
  },
  {
   "cell_type": "markdown",
   "id": "eb8cb67b",
   "metadata": {},
   "source": [
    "## Unnecessary type #2: irrelevant\n",
    "The data needs to provide valuable information for the project. If the features are not related to the question we are trying to solve, they are irrelevant.\n",
    "\n",
    "### How to find out?\n",
    "We need to skim through the features to identify irrelevant ones. For example, a feature recording the temperature in the US wouldn’t provide direct insights into housing prices in Russia.\n",
    "\n",
    "### What to do?\n",
    "When the features are not serving the project’s goal, we can remove them. You could use the drop method in pandas."
   ]
  },
  {
   "cell_type": "markdown",
   "id": "797eb0ef",
   "metadata": {},
   "source": [
    "## Unnecessary type #3: duplicates\n",
    "The duplicate data is when copies of the same observation exist. Let’s look at 2 main types of duplicate data and clean them in Python.\n",
    "\n",
    "### Duplicates type #1: all columns based\n",
    "##### How to find out?\n",
    "This is easy to understand. Such duplicate occurs when all the columns’ values within the observations are the same. We can use the duplicated method to grab the boolean values of whether a row is duplicated, and then use it to filter for duplicated rows from sberbank.\n",
    "##### What to do?\n",
    "If there were any duplicates, we could remove them. We can use the drop_duplicates method. But this will return the same DataFrame since there weren’t any duplicates."
   ]
  },
  {
   "cell_type": "markdown",
   "id": "7b8e7f36",
   "metadata": {},
   "source": [
    "### There are no two rows that look exactly the same. So this returns 0 rows."
   ]
  },
  {
   "cell_type": "code",
   "execution_count": 45,
   "id": "fce0d0d1",
   "metadata": {},
   "outputs": [
    {
     "data": {
      "text/html": [
       "<div>\n",
       "<style scoped>\n",
       "    .dataframe tbody tr th:only-of-type {\n",
       "        vertical-align: middle;\n",
       "    }\n",
       "\n",
       "    .dataframe tbody tr th {\n",
       "        vertical-align: top;\n",
       "    }\n",
       "\n",
       "    .dataframe thead th {\n",
       "        text-align: right;\n",
       "    }\n",
       "</style>\n",
       "<table border=\"1\" class=\"dataframe\">\n",
       "  <thead>\n",
       "    <tr style=\"text-align: right;\">\n",
       "      <th></th>\n",
       "      <th>id</th>\n",
       "      <th>timestamp</th>\n",
       "      <th>full_sq</th>\n",
       "      <th>life_sq</th>\n",
       "      <th>floor</th>\n",
       "      <th>max_floor</th>\n",
       "      <th>material</th>\n",
       "      <th>build_year</th>\n",
       "      <th>num_room</th>\n",
       "      <th>kitch_sq</th>\n",
       "      <th>...</th>\n",
       "      <th>cafe_count_5000_price_2500</th>\n",
       "      <th>cafe_count_5000_price_4000</th>\n",
       "      <th>cafe_count_5000_price_high</th>\n",
       "      <th>big_church_count_5000</th>\n",
       "      <th>church_count_5000</th>\n",
       "      <th>mosque_count_5000</th>\n",
       "      <th>leisure_count_5000</th>\n",
       "      <th>sport_count_5000</th>\n",
       "      <th>market_count_5000</th>\n",
       "      <th>price_doc</th>\n",
       "    </tr>\n",
       "  </thead>\n",
       "  <tbody>\n",
       "  </tbody>\n",
       "</table>\n",
       "<p>0 rows × 292 columns</p>\n",
       "</div>"
      ],
      "text/plain": [
       "Empty DataFrame\n",
       "Columns: [id, timestamp, full_sq, life_sq, floor, max_floor, material, build_year, num_room, kitch_sq, state, product_type, sub_area, area_m, raion_popul, green_zone_part, indust_part, children_preschool, preschool_quota, preschool_education_centers_raion, children_school, school_quota, school_education_centers_raion, school_education_centers_top_20_raion, hospital_beds_raion, healthcare_centers_raion, university_top_20_raion, sport_objects_raion, additional_education_raion, culture_objects_top_25, culture_objects_top_25_raion, shopping_centers_raion, office_raion, thermal_power_plant_raion, incineration_raion, oil_chemistry_raion, radiation_raion, railroad_terminal_raion, big_market_raion, nuclear_reactor_raion, detention_facility_raion, full_all, male_f, female_f, young_all, young_male, young_female, work_all, work_male, work_female, ekder_all, ekder_male, ekder_female, 0_6_all, 0_6_male, 0_6_female, 7_14_all, 7_14_male, 7_14_female, 0_17_all, 0_17_male, 0_17_female, 16_29_all, 16_29_male, 16_29_female, 0_13_all, 0_13_male, 0_13_female, raion_build_count_with_material_info, build_count_block, build_count_wood, build_count_frame, build_count_brick, build_count_monolith, build_count_panel, build_count_foam, build_count_slag, build_count_mix, raion_build_count_with_builddate_info, build_count_before_1920, build_count_1921-1945, build_count_1946-1970, build_count_1971-1995, build_count_after_1995, ID_metro, metro_min_avto, metro_km_avto, metro_min_walk, metro_km_walk, kindergarten_km, school_km, park_km, green_zone_km, industrial_km, water_treatment_km, cemetery_km, incineration_km, railroad_station_walk_km, railroad_station_walk_min, ID_railroad_station_walk, ...]\n",
       "Index: []\n",
       "\n",
       "[0 rows x 292 columns]"
      ]
     },
     "execution_count": 45,
     "metadata": {},
     "output_type": "execute_result"
    }
   ],
   "source": [
    "sberbank[sberbank.duplicated()]"
   ]
  },
  {
   "cell_type": "markdown",
   "id": "580cdbc0",
   "metadata": {},
   "source": [
    "## Note: If there were any duplicates, we could remove them. We can use the drop_duplicates method. But this will return the same DataFrame since there weren’t any duplicates."
   ]
  },
  {
   "cell_type": "markdown",
   "id": "833ba71e",
   "metadata": {},
   "source": [
    "# Duplicates type #2: key columns based\n",
    "Instead of looking at all columns, sometimes we want to detect duplicates based on a set of identifiers (columns).\n",
    "\n",
    "##### How to find out?\n",
    "For example, we know that the column id is probably unique. What if we drop it and see if there are duplicates based on the rest of the columns?"
   ]
  },
  {
   "cell_type": "markdown",
   "id": "2cb0e948",
   "metadata": {},
   "source": [
    "### We first drop id, and then see if there are duplicated rows from the DataFrame."
   ]
  },
  {
   "cell_type": "code",
   "execution_count": 50,
   "id": "aa356b78",
   "metadata": {},
   "outputs": [
    {
     "data": {
      "text/html": [
       "<div>\n",
       "<style scoped>\n",
       "    .dataframe tbody tr th:only-of-type {\n",
       "        vertical-align: middle;\n",
       "    }\n",
       "\n",
       "    .dataframe tbody tr th {\n",
       "        vertical-align: top;\n",
       "    }\n",
       "\n",
       "    .dataframe thead th {\n",
       "        text-align: right;\n",
       "    }\n",
       "</style>\n",
       "<table border=\"1\" class=\"dataframe\">\n",
       "  <thead>\n",
       "    <tr style=\"text-align: right;\">\n",
       "      <th></th>\n",
       "      <th>id</th>\n",
       "      <th>timestamp</th>\n",
       "      <th>full_sq</th>\n",
       "      <th>life_sq</th>\n",
       "      <th>floor</th>\n",
       "      <th>max_floor</th>\n",
       "      <th>material</th>\n",
       "      <th>build_year</th>\n",
       "      <th>num_room</th>\n",
       "      <th>kitch_sq</th>\n",
       "      <th>...</th>\n",
       "      <th>cafe_count_5000_price_2500</th>\n",
       "      <th>cafe_count_5000_price_4000</th>\n",
       "      <th>cafe_count_5000_price_high</th>\n",
       "      <th>big_church_count_5000</th>\n",
       "      <th>church_count_5000</th>\n",
       "      <th>mosque_count_5000</th>\n",
       "      <th>leisure_count_5000</th>\n",
       "      <th>sport_count_5000</th>\n",
       "      <th>market_count_5000</th>\n",
       "      <th>price_doc</th>\n",
       "    </tr>\n",
       "  </thead>\n",
       "  <tbody>\n",
       "    <tr>\n",
       "      <th>3359</th>\n",
       "      <td>3362</td>\n",
       "      <td>2012-08-27</td>\n",
       "      <td>59</td>\n",
       "      <td>NaN</td>\n",
       "      <td>6.0</td>\n",
       "      <td>NaN</td>\n",
       "      <td>NaN</td>\n",
       "      <td>NaN</td>\n",
       "      <td>NaN</td>\n",
       "      <td>NaN</td>\n",
       "      <td>...</td>\n",
       "      <td>4</td>\n",
       "      <td>2</td>\n",
       "      <td>0</td>\n",
       "      <td>3</td>\n",
       "      <td>15</td>\n",
       "      <td>1</td>\n",
       "      <td>0</td>\n",
       "      <td>24</td>\n",
       "      <td>4</td>\n",
       "      <td>4506800</td>\n",
       "    </tr>\n",
       "    <tr>\n",
       "      <th>4328</th>\n",
       "      <td>4331</td>\n",
       "      <td>2012-10-22</td>\n",
       "      <td>61</td>\n",
       "      <td>NaN</td>\n",
       "      <td>18.0</td>\n",
       "      <td>NaN</td>\n",
       "      <td>NaN</td>\n",
       "      <td>NaN</td>\n",
       "      <td>NaN</td>\n",
       "      <td>NaN</td>\n",
       "      <td>...</td>\n",
       "      <td>11</td>\n",
       "      <td>2</td>\n",
       "      <td>1</td>\n",
       "      <td>5</td>\n",
       "      <td>4</td>\n",
       "      <td>0</td>\n",
       "      <td>1</td>\n",
       "      <td>32</td>\n",
       "      <td>5</td>\n",
       "      <td>8248500</td>\n",
       "    </tr>\n",
       "    <tr>\n",
       "      <th>6991</th>\n",
       "      <td>6994</td>\n",
       "      <td>2013-04-03</td>\n",
       "      <td>42</td>\n",
       "      <td>NaN</td>\n",
       "      <td>2.0</td>\n",
       "      <td>NaN</td>\n",
       "      <td>NaN</td>\n",
       "      <td>NaN</td>\n",
       "      <td>NaN</td>\n",
       "      <td>NaN</td>\n",
       "      <td>...</td>\n",
       "      <td>3</td>\n",
       "      <td>2</td>\n",
       "      <td>0</td>\n",
       "      <td>2</td>\n",
       "      <td>16</td>\n",
       "      <td>1</td>\n",
       "      <td>0</td>\n",
       "      <td>20</td>\n",
       "      <td>4</td>\n",
       "      <td>3444000</td>\n",
       "    </tr>\n",
       "    <tr>\n",
       "      <th>8059</th>\n",
       "      <td>8062</td>\n",
       "      <td>2013-05-22</td>\n",
       "      <td>68</td>\n",
       "      <td>NaN</td>\n",
       "      <td>2.0</td>\n",
       "      <td>NaN</td>\n",
       "      <td>NaN</td>\n",
       "      <td>NaN</td>\n",
       "      <td>NaN</td>\n",
       "      <td>NaN</td>\n",
       "      <td>...</td>\n",
       "      <td>3</td>\n",
       "      <td>2</td>\n",
       "      <td>0</td>\n",
       "      <td>2</td>\n",
       "      <td>16</td>\n",
       "      <td>1</td>\n",
       "      <td>0</td>\n",
       "      <td>20</td>\n",
       "      <td>4</td>\n",
       "      <td>5406690</td>\n",
       "    </tr>\n",
       "    <tr>\n",
       "      <th>8653</th>\n",
       "      <td>8656</td>\n",
       "      <td>2013-06-24</td>\n",
       "      <td>40</td>\n",
       "      <td>NaN</td>\n",
       "      <td>12.0</td>\n",
       "      <td>NaN</td>\n",
       "      <td>NaN</td>\n",
       "      <td>NaN</td>\n",
       "      <td>NaN</td>\n",
       "      <td>NaN</td>\n",
       "      <td>...</td>\n",
       "      <td>1</td>\n",
       "      <td>0</td>\n",
       "      <td>0</td>\n",
       "      <td>4</td>\n",
       "      <td>6</td>\n",
       "      <td>0</td>\n",
       "      <td>0</td>\n",
       "      <td>4</td>\n",
       "      <td>1</td>\n",
       "      <td>4112800</td>\n",
       "    </tr>\n",
       "    <tr>\n",
       "      <th>14004</th>\n",
       "      <td>14007</td>\n",
       "      <td>2014-01-22</td>\n",
       "      <td>46</td>\n",
       "      <td>28.0</td>\n",
       "      <td>1.0</td>\n",
       "      <td>9.0</td>\n",
       "      <td>1.0</td>\n",
       "      <td>1968.0</td>\n",
       "      <td>2.0</td>\n",
       "      <td>5.0</td>\n",
       "      <td>...</td>\n",
       "      <td>10</td>\n",
       "      <td>1</td>\n",
       "      <td>0</td>\n",
       "      <td>13</td>\n",
       "      <td>15</td>\n",
       "      <td>1</td>\n",
       "      <td>1</td>\n",
       "      <td>61</td>\n",
       "      <td>4</td>\n",
       "      <td>3000000</td>\n",
       "    </tr>\n",
       "    <tr>\n",
       "      <th>17404</th>\n",
       "      <td>17407</td>\n",
       "      <td>2014-04-15</td>\n",
       "      <td>134</td>\n",
       "      <td>134.0</td>\n",
       "      <td>1.0</td>\n",
       "      <td>1.0</td>\n",
       "      <td>1.0</td>\n",
       "      <td>0.0</td>\n",
       "      <td>3.0</td>\n",
       "      <td>0.0</td>\n",
       "      <td>...</td>\n",
       "      <td>0</td>\n",
       "      <td>0</td>\n",
       "      <td>0</td>\n",
       "      <td>0</td>\n",
       "      <td>1</td>\n",
       "      <td>0</td>\n",
       "      <td>0</td>\n",
       "      <td>0</td>\n",
       "      <td>0</td>\n",
       "      <td>5798496</td>\n",
       "    </tr>\n",
       "    <tr>\n",
       "      <th>26675</th>\n",
       "      <td>26678</td>\n",
       "      <td>2014-12-17</td>\n",
       "      <td>62</td>\n",
       "      <td>NaN</td>\n",
       "      <td>9.0</td>\n",
       "      <td>17.0</td>\n",
       "      <td>1.0</td>\n",
       "      <td>NaN</td>\n",
       "      <td>2.0</td>\n",
       "      <td>1.0</td>\n",
       "      <td>...</td>\n",
       "      <td>371</td>\n",
       "      <td>141</td>\n",
       "      <td>26</td>\n",
       "      <td>150</td>\n",
       "      <td>249</td>\n",
       "      <td>2</td>\n",
       "      <td>105</td>\n",
       "      <td>203</td>\n",
       "      <td>13</td>\n",
       "      <td>6552000</td>\n",
       "    </tr>\n",
       "    <tr>\n",
       "      <th>28361</th>\n",
       "      <td>28364</td>\n",
       "      <td>2015-03-14</td>\n",
       "      <td>62</td>\n",
       "      <td>NaN</td>\n",
       "      <td>2.0</td>\n",
       "      <td>17.0</td>\n",
       "      <td>1.0</td>\n",
       "      <td>NaN</td>\n",
       "      <td>2.0</td>\n",
       "      <td>1.0</td>\n",
       "      <td>...</td>\n",
       "      <td>371</td>\n",
       "      <td>141</td>\n",
       "      <td>26</td>\n",
       "      <td>150</td>\n",
       "      <td>249</td>\n",
       "      <td>2</td>\n",
       "      <td>105</td>\n",
       "      <td>203</td>\n",
       "      <td>13</td>\n",
       "      <td>6520500</td>\n",
       "    </tr>\n",
       "    <tr>\n",
       "      <th>28712</th>\n",
       "      <td>28715</td>\n",
       "      <td>2015-03-30</td>\n",
       "      <td>41</td>\n",
       "      <td>41.0</td>\n",
       "      <td>11.0</td>\n",
       "      <td>17.0</td>\n",
       "      <td>1.0</td>\n",
       "      <td>2016.0</td>\n",
       "      <td>1.0</td>\n",
       "      <td>41.0</td>\n",
       "      <td>...</td>\n",
       "      <td>2</td>\n",
       "      <td>2</td>\n",
       "      <td>0</td>\n",
       "      <td>2</td>\n",
       "      <td>9</td>\n",
       "      <td>0</td>\n",
       "      <td>0</td>\n",
       "      <td>7</td>\n",
       "      <td>2</td>\n",
       "      <td>4114580</td>\n",
       "    </tr>\n",
       "  </tbody>\n",
       "</table>\n",
       "<p>10 rows × 292 columns</p>\n",
       "</div>"
      ],
      "text/plain": [
       "          id   timestamp  full_sq  life_sq  floor  max_floor  material  \\\n",
       "3359    3362  2012-08-27       59      NaN    6.0        NaN       NaN   \n",
       "4328    4331  2012-10-22       61      NaN   18.0        NaN       NaN   \n",
       "6991    6994  2013-04-03       42      NaN    2.0        NaN       NaN   \n",
       "8059    8062  2013-05-22       68      NaN    2.0        NaN       NaN   \n",
       "8653    8656  2013-06-24       40      NaN   12.0        NaN       NaN   \n",
       "14004  14007  2014-01-22       46     28.0    1.0        9.0       1.0   \n",
       "17404  17407  2014-04-15      134    134.0    1.0        1.0       1.0   \n",
       "26675  26678  2014-12-17       62      NaN    9.0       17.0       1.0   \n",
       "28361  28364  2015-03-14       62      NaN    2.0       17.0       1.0   \n",
       "28712  28715  2015-03-30       41     41.0   11.0       17.0       1.0   \n",
       "\n",
       "       build_year  num_room  kitch_sq  ...  cafe_count_5000_price_2500  \\\n",
       "3359          NaN       NaN       NaN  ...                           4   \n",
       "4328          NaN       NaN       NaN  ...                          11   \n",
       "6991          NaN       NaN       NaN  ...                           3   \n",
       "8059          NaN       NaN       NaN  ...                           3   \n",
       "8653          NaN       NaN       NaN  ...                           1   \n",
       "14004      1968.0       2.0       5.0  ...                          10   \n",
       "17404         0.0       3.0       0.0  ...                           0   \n",
       "26675         NaN       2.0       1.0  ...                         371   \n",
       "28361         NaN       2.0       1.0  ...                         371   \n",
       "28712      2016.0       1.0      41.0  ...                           2   \n",
       "\n",
       "      cafe_count_5000_price_4000 cafe_count_5000_price_high  \\\n",
       "3359                           2                          0   \n",
       "4328                           2                          1   \n",
       "6991                           2                          0   \n",
       "8059                           2                          0   \n",
       "8653                           0                          0   \n",
       "14004                          1                          0   \n",
       "17404                          0                          0   \n",
       "26675                        141                         26   \n",
       "28361                        141                         26   \n",
       "28712                          2                          0   \n",
       "\n",
       "       big_church_count_5000  church_count_5000  mosque_count_5000  \\\n",
       "3359                       3                 15                  1   \n",
       "4328                       5                  4                  0   \n",
       "6991                       2                 16                  1   \n",
       "8059                       2                 16                  1   \n",
       "8653                       4                  6                  0   \n",
       "14004                     13                 15                  1   \n",
       "17404                      0                  1                  0   \n",
       "26675                    150                249                  2   \n",
       "28361                    150                249                  2   \n",
       "28712                      2                  9                  0   \n",
       "\n",
       "       leisure_count_5000  sport_count_5000  market_count_5000  price_doc  \n",
       "3359                    0                24                  4    4506800  \n",
       "4328                    1                32                  5    8248500  \n",
       "6991                    0                20                  4    3444000  \n",
       "8059                    0                20                  4    5406690  \n",
       "8653                    0                 4                  1    4112800  \n",
       "14004                   1                61                  4    3000000  \n",
       "17404                   0                 0                  0    5798496  \n",
       "26675                 105               203                 13    6552000  \n",
       "28361                 105               203                 13    6520500  \n",
       "28712                   0                 7                  2    4114580  \n",
       "\n",
       "[10 rows x 292 columns]"
      ]
     },
     "execution_count": 50,
     "metadata": {},
     "output_type": "execute_result"
    }
   ],
   "source": [
    "sberbank[sberbank.drop(columns=['id']).duplicated()]"
   ]
  },
  {
   "cell_type": "markdown",
   "id": "964534a1",
   "metadata": {},
   "source": [
    "## Note: We could remove them and save the new dataset as sberbank_dedupped. We can also compare the shapes of the two datasets (sberbank and sberbank_dedupped)."
   ]
  },
  {
   "cell_type": "markdown",
   "id": "53dc01fc",
   "metadata": {},
   "source": [
    "## There were 10 rows removed as duplicates."
   ]
  },
  {
   "cell_type": "code",
   "execution_count": 51,
   "id": "d224050c",
   "metadata": {},
   "outputs": [
    {
     "name": "stdout",
     "output_type": "stream",
     "text": [
      "(30471, 292)\n",
      "(30461, 291)\n"
     ]
    }
   ],
   "source": [
    "sberbank_dedupped = sberbank.drop(columns=['id']).drop_duplicates()\n",
    "\n",
    "print(sberbank.shape)\n",
    "print(sberbank_dedupped.shape)"
   ]
  },
  {
   "cell_type": "markdown",
   "id": "b3c42e2a",
   "metadata": {},
   "source": [
    "### let’s assume that if two transactions have the same timestamp, full_sq, life_sq, floor, build_year, num_room, price_doc, they are duplicates. Let’s look at duplicates based on this set of columns. We can use the below code to show the duplicated rows based on those columns.\n",
    "\n",
    "## Their are 16 rows returned as duplicates"
   ]
  },
  {
   "cell_type": "code",
   "execution_count": 59,
   "id": "ef0683ec",
   "metadata": {},
   "outputs": [
    {
     "data": {
      "text/plain": [
       "timestamp   full_sq  life_sq  floor  build_year  num_room  price_doc\n",
       "2012-08-27  59       -999.0   6.0    -999.0      -999.0    4506800      2\n",
       "2012-09-05  43       -999.0   21.0   -999.0      -999.0    6229540      2\n",
       "2012-10-22  61       -999.0   18.0   -999.0      -999.0    8248500      2\n",
       "2013-04-03  42       -999.0   2.0    -999.0      -999.0    3444000      2\n",
       "2013-05-22  68       -999.0   2.0    -999.0      -999.0    5406690      2\n",
       "2013-06-24  40       -999.0   12.0   -999.0      -999.0    4112800      2\n",
       "2013-08-30  40       -999.0   12.0   -999.0       1.0      4462000      2\n",
       "2013-09-23  85       -999.0   14.0   -999.0       3.0      7725974      2\n",
       "2013-12-05  40       -999.0   5.0    -999.0       1.0      4414080      2\n",
       "2013-12-18  39       -999.0   6.0    -999.0       1.0      3700946      2\n",
       "2014-01-22  46        28.0    1.0     1968.0      2.0      3000000      2\n",
       "2014-04-15  134       134.0   1.0     0.0         3.0      5798496      2\n",
       "2014-12-09  40       -999.0   17.0   -999.0       1.0      4607265      2\n",
       "2014-12-17  62       -999.0   9.0    -999.0       2.0      6552000      2\n",
       "2015-03-14  62       -999.0   2.0    -999.0       2.0      6520500      2\n",
       "2015-03-30  41        41.0    11.0    2016.0      1.0      4114580      2\n",
       "Name: id, dtype: int64"
      ]
     },
     "execution_count": 59,
     "metadata": {},
     "output_type": "execute_result"
    }
   ],
   "source": [
    "key = ['timestamp', 'full_sq', 'life_sq', 'floor', 'build_year', 'num_room', 'price_doc']\n",
    "\n",
    "\n",
    "sberbank_grouped = sberbank.fillna(-999).groupby(key)['id'].count()\n",
    "\n",
    "sberbank_grouped[sberbank_grouped > 1]"
   ]
  },
  {
   "cell_type": "markdown",
   "id": "b9e9e765",
   "metadata": {},
   "source": [
    "### Dropping duplicates based on the subset of key columns.\n",
    "##### We’ve successfully dropped the 16 duplicates in the new dataset named sberbank_dedupped2."
   ]
  },
  {
   "cell_type": "code",
   "execution_count": 61,
   "id": "754274fc",
   "metadata": {},
   "outputs": [
    {
     "name": "stdout",
     "output_type": "stream",
     "text": [
      "(30471, 292)\n",
      "(30455, 292)\n"
     ]
    }
   ],
   "source": [
    "key = ['timestamp', 'full_sq', 'life_sq', 'floor', 'build_year', 'num_room', 'price_doc']\n",
    "sberbank_dedupped2 = sberbank.drop_duplicates(subset=key)\n",
    "\n",
    "print(sberbank.shape)\n",
    "print(sberbank_dedupped2.shape)"
   ]
  },
  {
   "cell_type": "markdown",
   "id": "8f05f9ee",
   "metadata": {},
   "source": [
    "# 6. Inconsistent data\n",
    "It is crucial to have the dataset follow specific standards. There could be different inconsistent data that needs to be cleaned and we’ll cover 4 common ones. Please note that the actual data may be even messier, be creative when cleaning it!\n",
    "\n",
    "### Inconsistent type #1: capitalization\n",
    "Inconsistent use of upper and lower cases in categorical values is typical. We need to clean it since Python is case-sensitive."
   ]
  },
  {
   "cell_type": "markdown",
   "id": "b340d769",
   "metadata": {},
   "source": [
    "### Note: sub_area stores the name of different areas. We are lucky that the text in this column looks standardized. But there could be inconsistent capitalizations. For instance, ‘Poselenie Sosenskoe’ and ‘pOseleNie sosenskeo’ could refer to the same district."
   ]
  },
  {
   "cell_type": "code",
   "execution_count": 62,
   "id": "4b810b24",
   "metadata": {},
   "outputs": [
    {
     "data": {
      "text/plain": [
       "Poselenie Sosenskoe               1776\n",
       "Nekrasovka                        1611\n",
       "Poselenie Vnukovskoe              1372\n",
       "Poselenie Moskovskij               925\n",
       "Poselenie Voskresenskoe            713\n",
       "                                  ... \n",
       "Molzhaninovskoe                      3\n",
       "Poselenie Shhapovskoe                2\n",
       "Poselenie Kievskij                   2\n",
       "Poselenie Klenovskoe                 1\n",
       "Poselenie Mihajlovo-Jarcevskoe       1\n",
       "Name: sub_area, Length: 146, dtype: int64"
      ]
     },
     "execution_count": 62,
     "metadata": {},
     "output_type": "execute_result"
    }
   ],
   "source": [
    "sberbank['sub_area'].value_counts(dropna=False)"
   ]
  },
  {
   "cell_type": "markdown",
   "id": "82d2d6bf",
   "metadata": {},
   "source": [
    "##### What to do?\n",
    "To avoid this, we can lowercase (or uppercase) all letters."
   ]
  },
  {
   "cell_type": "code",
   "execution_count": 63,
   "id": "2f7eca0d",
   "metadata": {},
   "outputs": [
    {
     "data": {
      "text/plain": [
       "poselenie sosenskoe               1776\n",
       "nekrasovka                        1611\n",
       "poselenie vnukovskoe              1372\n",
       "poselenie moskovskij               925\n",
       "poselenie voskresenskoe            713\n",
       "                                  ... \n",
       "molzhaninovskoe                      3\n",
       "poselenie shhapovskoe                2\n",
       "poselenie kievskij                   2\n",
       "poselenie klenovskoe                 1\n",
       "poselenie mihajlovo-jarcevskoe       1\n",
       "Name: sub_area_lower, Length: 146, dtype: int64"
      ]
     },
     "execution_count": 63,
     "metadata": {},
     "output_type": "execute_result"
    }
   ],
   "source": [
    "sberbank['sub_area_lower'] = sberbank['sub_area'].str.lower()\n",
    "sberbank['sub_area_lower'].value_counts(dropna=False)"
   ]
  },
  {
   "cell_type": "markdown",
   "id": "ca40d7c7",
   "metadata": {},
   "source": [
    "### Inconsistent type #2: data types\n",
    "Another standardization we often need to look at is the data types.\n",
    "\n",
    "\n",
    "##### How to find out?\n",
    "\n",
    "If you recall, earlier, we’ve used the info method to print out the summary of the DataFrame. We could see the data types of each column. We could also print out one column to take a look. Let’s try timestamp."
   ]
  },
  {
   "cell_type": "markdown",
   "id": "1c21bb87",
   "metadata": {},
   "source": [
    "### Timestamp has dtype of object while it records dates"
   ]
  },
  {
   "cell_type": "code",
   "execution_count": 64,
   "id": "96851ddd",
   "metadata": {},
   "outputs": [
    {
     "data": {
      "text/plain": [
       "0        2011-08-20\n",
       "1        2011-08-23\n",
       "2        2011-08-27\n",
       "3        2011-09-01\n",
       "4        2011-09-05\n",
       "            ...    \n",
       "30466    2015-06-30\n",
       "30467    2015-06-30\n",
       "30468    2015-06-30\n",
       "30469    2015-06-30\n",
       "30470    2015-06-30\n",
       "Name: timestamp, Length: 30471, dtype: object"
      ]
     },
     "execution_count": 64,
     "metadata": {},
     "output_type": "execute_result"
    }
   ],
   "source": [
    "sberbank['timestamp']"
   ]
  },
  {
   "cell_type": "markdown",
   "id": "6f930b8b",
   "metadata": {},
   "source": [
    "### What to do?\n",
    "We can convert the column to a DateTime format and even extract the specific year, month, weekday, etc."
   ]
  },
  {
   "cell_type": "code",
   "execution_count": 66,
   "id": "1cc55460",
   "metadata": {},
   "outputs": [
    {
     "data": {
      "text/html": [
       "<div>\n",
       "<style scoped>\n",
       "    .dataframe tbody tr th:only-of-type {\n",
       "        vertical-align: middle;\n",
       "    }\n",
       "\n",
       "    .dataframe tbody tr th {\n",
       "        vertical-align: top;\n",
       "    }\n",
       "\n",
       "    .dataframe thead th {\n",
       "        text-align: right;\n",
       "    }\n",
       "</style>\n",
       "<table border=\"1\" class=\"dataframe\">\n",
       "  <thead>\n",
       "    <tr style=\"text-align: right;\">\n",
       "      <th></th>\n",
       "      <th>timestamp_dt</th>\n",
       "      <th>year</th>\n",
       "      <th>month</th>\n",
       "      <th>weekday</th>\n",
       "    </tr>\n",
       "  </thead>\n",
       "  <tbody>\n",
       "    <tr>\n",
       "      <th>0</th>\n",
       "      <td>2011-08-20</td>\n",
       "      <td>2011</td>\n",
       "      <td>8</td>\n",
       "      <td>5</td>\n",
       "    </tr>\n",
       "    <tr>\n",
       "      <th>1</th>\n",
       "      <td>2011-08-23</td>\n",
       "      <td>2011</td>\n",
       "      <td>8</td>\n",
       "      <td>1</td>\n",
       "    </tr>\n",
       "    <tr>\n",
       "      <th>2</th>\n",
       "      <td>2011-08-27</td>\n",
       "      <td>2011</td>\n",
       "      <td>8</td>\n",
       "      <td>5</td>\n",
       "    </tr>\n",
       "    <tr>\n",
       "      <th>3</th>\n",
       "      <td>2011-09-01</td>\n",
       "      <td>2011</td>\n",
       "      <td>9</td>\n",
       "      <td>3</td>\n",
       "    </tr>\n",
       "    <tr>\n",
       "      <th>4</th>\n",
       "      <td>2011-09-05</td>\n",
       "      <td>2011</td>\n",
       "      <td>9</td>\n",
       "      <td>0</td>\n",
       "    </tr>\n",
       "  </tbody>\n",
       "</table>\n",
       "</div>"
      ],
      "text/plain": [
       "  timestamp_dt  year  month  weekday\n",
       "0   2011-08-20  2011      8        5\n",
       "1   2011-08-23  2011      8        1\n",
       "2   2011-08-27  2011      8        5\n",
       "3   2011-09-01  2011      9        3\n",
       "4   2011-09-05  2011      9        0"
      ]
     },
     "execution_count": 66,
     "metadata": {},
     "output_type": "execute_result"
    }
   ],
   "source": [
    "sberbank['timestamp_dt'] = pd.to_datetime(sberbank['timestamp'], format='%Y-%m-%d')\n",
    "sberbank['year'] = sberbank['timestamp_dt'].dt.year\n",
    "sberbank['month'] = sberbank['timestamp_dt'].dt.month\n",
    "sberbank['weekday'] = sberbank['timestamp_dt'].dt.weekday\n",
    "\n",
    "sberbank[['timestamp_dt', 'year', 'month', 'weekday']].head()"
   ]
  },
  {
   "cell_type": "markdown",
   "id": "30896048",
   "metadata": {},
   "source": [
    "### Inconsistent type #3: typos of categorical values\n",
    "#### How to find out?\n",
    "Let’s see an example. Within the code below:\n",
    "\n",
    "1. We generate a new DataFrame, df_city_ex\n",
    "2. There is only one column that stores the city names. There are misspellings. For example, ‘torontoo’ and ‘tronto’ both refer to the city of ‘toronto’.\n",
    "3. The variable cities stores the 4 correct names of ‘toronto’, ‘vancouver’, ‘montreal’, and ‘calgary’.\n",
    "4. To identify typos, we use fuzzy logic matches. We use edit_distance from nltk, which measures the number of operations (e.g., substitution, insertion, deletion) needed to change from one string into another string.\n",
    "5. We calculate the distance between the actual values and the correct values."
   ]
  },
  {
   "cell_type": "markdown",
   "id": "0c796846",
   "metadata": {},
   "source": [
    "### The typos have a smaller ‘distance’ from the correct value. Because they only differ by a couple of letters."
   ]
  },
  {
   "cell_type": "code",
   "execution_count": 68,
   "id": "d6f27f82",
   "metadata": {},
   "outputs": [
    {
     "data": {
      "text/html": [
       "<div>\n",
       "<style scoped>\n",
       "    .dataframe tbody tr th:only-of-type {\n",
       "        vertical-align: middle;\n",
       "    }\n",
       "\n",
       "    .dataframe tbody tr th {\n",
       "        vertical-align: top;\n",
       "    }\n",
       "\n",
       "    .dataframe thead th {\n",
       "        text-align: right;\n",
       "    }\n",
       "</style>\n",
       "<table border=\"1\" class=\"dataframe\">\n",
       "  <thead>\n",
       "    <tr style=\"text-align: right;\">\n",
       "      <th></th>\n",
       "      <th>city</th>\n",
       "      <th>city_distance_toronto</th>\n",
       "      <th>city_distance_vancouver</th>\n",
       "      <th>city_distance_montreal</th>\n",
       "      <th>city_distance_calgary</th>\n",
       "    </tr>\n",
       "  </thead>\n",
       "  <tbody>\n",
       "    <tr>\n",
       "      <th>0</th>\n",
       "      <td>torontoo</td>\n",
       "      <td>1</td>\n",
       "      <td>8</td>\n",
       "      <td>7</td>\n",
       "      <td>8</td>\n",
       "    </tr>\n",
       "    <tr>\n",
       "      <th>1</th>\n",
       "      <td>toronto</td>\n",
       "      <td>0</td>\n",
       "      <td>8</td>\n",
       "      <td>7</td>\n",
       "      <td>7</td>\n",
       "    </tr>\n",
       "    <tr>\n",
       "      <th>2</th>\n",
       "      <td>tronto</td>\n",
       "      <td>1</td>\n",
       "      <td>8</td>\n",
       "      <td>6</td>\n",
       "      <td>7</td>\n",
       "    </tr>\n",
       "    <tr>\n",
       "      <th>3</th>\n",
       "      <td>vancouver</td>\n",
       "      <td>8</td>\n",
       "      <td>0</td>\n",
       "      <td>8</td>\n",
       "      <td>8</td>\n",
       "    </tr>\n",
       "    <tr>\n",
       "      <th>4</th>\n",
       "      <td>vancover</td>\n",
       "      <td>7</td>\n",
       "      <td>1</td>\n",
       "      <td>7</td>\n",
       "      <td>7</td>\n",
       "    </tr>\n",
       "    <tr>\n",
       "      <th>5</th>\n",
       "      <td>vancouvr</td>\n",
       "      <td>7</td>\n",
       "      <td>1</td>\n",
       "      <td>7</td>\n",
       "      <td>7</td>\n",
       "    </tr>\n",
       "    <tr>\n",
       "      <th>6</th>\n",
       "      <td>montreal</td>\n",
       "      <td>7</td>\n",
       "      <td>8</td>\n",
       "      <td>0</td>\n",
       "      <td>8</td>\n",
       "    </tr>\n",
       "    <tr>\n",
       "      <th>7</th>\n",
       "      <td>calgary</td>\n",
       "      <td>7</td>\n",
       "      <td>8</td>\n",
       "      <td>8</td>\n",
       "      <td>0</td>\n",
       "    </tr>\n",
       "  </tbody>\n",
       "</table>\n",
       "</div>"
      ],
      "text/plain": [
       "        city  city_distance_toronto  city_distance_vancouver  \\\n",
       "0   torontoo                      1                        8   \n",
       "1    toronto                      0                        8   \n",
       "2     tronto                      1                        8   \n",
       "3  vancouver                      8                        0   \n",
       "4   vancover                      7                        1   \n",
       "5   vancouvr                      7                        1   \n",
       "6   montreal                      7                        8   \n",
       "7    calgary                      7                        8   \n",
       "\n",
       "   city_distance_montreal  city_distance_calgary  \n",
       "0                       7                      8  \n",
       "1                       7                      7  \n",
       "2                       6                      7  \n",
       "3                       8                      8  \n",
       "4                       7                      7  \n",
       "5                       7                      7  \n",
       "6                       0                      8  \n",
       "7                       8                      0  "
      ]
     },
     "execution_count": 68,
     "metadata": {},
     "output_type": "execute_result"
    }
   ],
   "source": [
    "sberbank_city_ex = pd.DataFrame(data={'city': ['torontoo', 'toronto', 'tronto', 'vancouver', 'vancover', 'vancouvr', 'montreal', 'calgary']})\n",
    "\n",
    "cities = ['toronto', 'vancouver', 'montreal', 'calgary']\n",
    "from nltk.metrics import edit_distance\n",
    "for city in cities:\n",
    "    sberbank_city_ex[f'city_distance_{city}'] = df_city_ex['city'].map(lambda x: edit_distance(x, city))\n",
    "\n",
    "sberbank_city_ex"
   ]
  },
  {
   "cell_type": "markdown",
   "id": "09b0c13e",
   "metadata": {},
   "source": [
    "### What to do?\n",
    "We can set criteria to convert these typos to the correct values. For example, the below code sets all the values within 2 characters distance from ‘toronto’/’vancouver’ to be ‘toronto’/’vancouver’."
   ]
  },
  {
   "cell_type": "code",
   "execution_count": 69,
   "id": "0311b0da",
   "metadata": {
    "scrolled": true
   },
   "outputs": [
    {
     "data": {
      "text/html": [
       "<div>\n",
       "<style scoped>\n",
       "    .dataframe tbody tr th:only-of-type {\n",
       "        vertical-align: middle;\n",
       "    }\n",
       "\n",
       "    .dataframe tbody tr th {\n",
       "        vertical-align: top;\n",
       "    }\n",
       "\n",
       "    .dataframe thead th {\n",
       "        text-align: right;\n",
       "    }\n",
       "</style>\n",
       "<table border=\"1\" class=\"dataframe\">\n",
       "  <thead>\n",
       "    <tr style=\"text-align: right;\">\n",
       "      <th></th>\n",
       "      <th>city</th>\n",
       "      <th>city_distance_toronto</th>\n",
       "      <th>city_distance_vancouver</th>\n",
       "      <th>city_distance_montreal</th>\n",
       "      <th>city_distance_calgary</th>\n",
       "    </tr>\n",
       "  </thead>\n",
       "  <tbody>\n",
       "    <tr>\n",
       "      <th>0</th>\n",
       "      <td>toronto</td>\n",
       "      <td>1</td>\n",
       "      <td>8</td>\n",
       "      <td>7</td>\n",
       "      <td>8</td>\n",
       "    </tr>\n",
       "    <tr>\n",
       "      <th>1</th>\n",
       "      <td>toronto</td>\n",
       "      <td>0</td>\n",
       "      <td>8</td>\n",
       "      <td>7</td>\n",
       "      <td>7</td>\n",
       "    </tr>\n",
       "    <tr>\n",
       "      <th>2</th>\n",
       "      <td>toronto</td>\n",
       "      <td>1</td>\n",
       "      <td>8</td>\n",
       "      <td>6</td>\n",
       "      <td>7</td>\n",
       "    </tr>\n",
       "    <tr>\n",
       "      <th>3</th>\n",
       "      <td>vancouver</td>\n",
       "      <td>8</td>\n",
       "      <td>0</td>\n",
       "      <td>8</td>\n",
       "      <td>8</td>\n",
       "    </tr>\n",
       "    <tr>\n",
       "      <th>4</th>\n",
       "      <td>vancouver</td>\n",
       "      <td>7</td>\n",
       "      <td>1</td>\n",
       "      <td>7</td>\n",
       "      <td>7</td>\n",
       "    </tr>\n",
       "    <tr>\n",
       "      <th>5</th>\n",
       "      <td>vancouver</td>\n",
       "      <td>7</td>\n",
       "      <td>1</td>\n",
       "      <td>7</td>\n",
       "      <td>7</td>\n",
       "    </tr>\n",
       "    <tr>\n",
       "      <th>6</th>\n",
       "      <td>montreal</td>\n",
       "      <td>7</td>\n",
       "      <td>8</td>\n",
       "      <td>0</td>\n",
       "      <td>8</td>\n",
       "    </tr>\n",
       "    <tr>\n",
       "      <th>7</th>\n",
       "      <td>calgary</td>\n",
       "      <td>7</td>\n",
       "      <td>8</td>\n",
       "      <td>8</td>\n",
       "      <td>0</td>\n",
       "    </tr>\n",
       "  </tbody>\n",
       "</table>\n",
       "</div>"
      ],
      "text/plain": [
       "        city  city_distance_toronto  city_distance_vancouver  \\\n",
       "0    toronto                      1                        8   \n",
       "1    toronto                      0                        8   \n",
       "2    toronto                      1                        8   \n",
       "3  vancouver                      8                        0   \n",
       "4  vancouver                      7                        1   \n",
       "5  vancouver                      7                        1   \n",
       "6   montreal                      7                        8   \n",
       "7    calgary                      7                        8   \n",
       "\n",
       "   city_distance_montreal  city_distance_calgary  \n",
       "0                       7                      8  \n",
       "1                       7                      7  \n",
       "2                       6                      7  \n",
       "3                       8                      8  \n",
       "4                       7                      7  \n",
       "5                       7                      7  \n",
       "6                       0                      8  \n",
       "7                       8                      0  "
      ]
     },
     "execution_count": 69,
     "metadata": {},
     "output_type": "execute_result"
    }
   ],
   "source": [
    "msk = sberbank_city_ex['city_distance_toronto'] <= 2\n",
    "sberbank_city_ex.loc[msk, 'city'] = 'toronto'\n",
    "\n",
    "msk = sberbank_city_ex['city_distance_vancouver'] <= 2\n",
    "sberbank_city_ex.loc[msk, 'city'] = 'vancouver'\n",
    "\n",
    "sberbank_city_ex"
   ]
  },
  {
   "cell_type": "markdown",
   "id": "f62b8ff5",
   "metadata": {},
   "source": [
    "### Inconsistent type #4: addresses\n",
    "If you’ve worked with addresses, you know how messy they can be. Just imagine how people can write addresses in all different ways!\n",
    "\n",
    "##### How to find out?\n",
    "We can find messy address data by looking at it. Even though sometimes we can’t spot any problems, we can still run code to standardize them in case there are hidden issues.\n",
    "\n",
    "There is no address column in our housing dataset due to privacy. Let’s create a new dataset df_add_ex with a column address. As shown below the addresses are quite messy."
   ]
  },
  {
   "cell_type": "code",
   "execution_count": 71,
   "id": "8478058b",
   "metadata": {},
   "outputs": [
    {
     "data": {
      "text/html": [
       "<div>\n",
       "<style scoped>\n",
       "    .dataframe tbody tr th:only-of-type {\n",
       "        vertical-align: middle;\n",
       "    }\n",
       "\n",
       "    .dataframe tbody tr th {\n",
       "        vertical-align: top;\n",
       "    }\n",
       "\n",
       "    .dataframe thead th {\n",
       "        text-align: right;\n",
       "    }\n",
       "</style>\n",
       "<table border=\"1\" class=\"dataframe\">\n",
       "  <thead>\n",
       "    <tr style=\"text-align: right;\">\n",
       "      <th></th>\n",
       "      <th>address</th>\n",
       "    </tr>\n",
       "  </thead>\n",
       "  <tbody>\n",
       "    <tr>\n",
       "      <th>0</th>\n",
       "      <td>123 MAIN St Apartment 15</td>\n",
       "    </tr>\n",
       "    <tr>\n",
       "      <th>1</th>\n",
       "      <td>123 Main Street Apt 12</td>\n",
       "    </tr>\n",
       "    <tr>\n",
       "      <th>2</th>\n",
       "      <td>543 FirSt Av</td>\n",
       "    </tr>\n",
       "    <tr>\n",
       "      <th>3</th>\n",
       "      <td>876 FIRst Ave.</td>\n",
       "    </tr>\n",
       "  </tbody>\n",
       "</table>\n",
       "</div>"
      ],
      "text/plain": [
       "                     address\n",
       "0   123 MAIN St Apartment 15\n",
       "1  123 Main Street Apt 12   \n",
       "2               543 FirSt Av\n",
       "3             876 FIRst Ave."
      ]
     },
     "execution_count": 71,
     "metadata": {},
     "output_type": "execute_result"
    }
   ],
   "source": [
    "\n",
    "df_add_ex = pd.DataFrame(['123 MAIN St Apartment 15', '123 Main Street Apt 12   ', '543 FirSt Av', '  876 FIRst Ave.'], columns=['address'])\n",
    "df_add_ex"
   ]
  },
  {
   "cell_type": "markdown",
   "id": "f2332636",
   "metadata": {},
   "source": [
    "### What to do?\n",
    "We can run the below code to:\n",
    "\n",
    "1. lowercase the letters\n",
    "2. remove leading and trailing white spaces\n",
    "3. delete periods\n",
    "4. standardize wordings"
   ]
  },
  {
   "cell_type": "markdown",
   "id": "c816d415",
   "metadata": {},
   "source": [
    "### We are using regular expressions to specify search patterns."
   ]
  },
  {
   "cell_type": "code",
   "execution_count": 72,
   "id": "55785d96",
   "metadata": {},
   "outputs": [
    {
     "data": {
      "text/html": [
       "<div>\n",
       "<style scoped>\n",
       "    .dataframe tbody tr th:only-of-type {\n",
       "        vertical-align: middle;\n",
       "    }\n",
       "\n",
       "    .dataframe tbody tr th {\n",
       "        vertical-align: top;\n",
       "    }\n",
       "\n",
       "    .dataframe thead th {\n",
       "        text-align: right;\n",
       "    }\n",
       "</style>\n",
       "<table border=\"1\" class=\"dataframe\">\n",
       "  <thead>\n",
       "    <tr style=\"text-align: right;\">\n",
       "      <th></th>\n",
       "      <th>address</th>\n",
       "      <th>address_std</th>\n",
       "    </tr>\n",
       "  </thead>\n",
       "  <tbody>\n",
       "    <tr>\n",
       "      <th>0</th>\n",
       "      <td>123 MAIN St Apartment 15</td>\n",
       "      <td>123 main st apt 15</td>\n",
       "    </tr>\n",
       "    <tr>\n",
       "      <th>1</th>\n",
       "      <td>123 Main Street Apt 12</td>\n",
       "      <td>123 main st apt 12</td>\n",
       "    </tr>\n",
       "    <tr>\n",
       "      <th>2</th>\n",
       "      <td>543 FirSt Av</td>\n",
       "      <td>543 first ave</td>\n",
       "    </tr>\n",
       "    <tr>\n",
       "      <th>3</th>\n",
       "      <td>876 FIRst Ave.</td>\n",
       "      <td>876 first ave</td>\n",
       "    </tr>\n",
       "  </tbody>\n",
       "</table>\n",
       "</div>"
      ],
      "text/plain": [
       "                     address         address_std\n",
       "0   123 MAIN St Apartment 15  123 main st apt 15\n",
       "1  123 Main Street Apt 12     123 main st apt 12\n",
       "2               543 FirSt Av       543 first ave\n",
       "3             876 FIRst Ave.       876 first ave"
      ]
     },
     "execution_count": 72,
     "metadata": {},
     "output_type": "execute_result"
    }
   ],
   "source": [
    "df_add_ex['address_std'] = df_add_ex['address'].str.lower()\n",
    "df_add_ex['address_std'] = df_add_ex['address_std'].str.strip() # remove leading and trailing whitespaces.\n",
    "df_add_ex['address_std'] = df_add_ex['address_std'].str.replace('\\\\.', '', regex=True) # remove period.\n",
    "df_add_ex['address_std'] = df_add_ex['address_std'].str.replace('\\\\bstreet\\\\b', 'st', regex=True) # replace street with st.\n",
    "df_add_ex['address_std'] = df_add_ex['address_std'].str.replace('\\\\bapartment\\\\b', 'apt', regex=True) # replace apartment with apt.\n",
    "df_add_ex['address_std'] = df_add_ex['address_std'].str.replace('\\\\bav\\\\b', 'ave', regex=True) # replace av with ave.\n",
    "\n",
    "df_add_ex"
   ]
  }
 ],
 "metadata": {
  "kernelspec": {
   "display_name": "Python 3 (ipykernel)",
   "language": "python",
   "name": "python3"
  },
  "language_info": {
   "codemirror_mode": {
    "name": "ipython",
    "version": 3
   },
   "file_extension": ".py",
   "mimetype": "text/x-python",
   "name": "python",
   "nbconvert_exporter": "python",
   "pygments_lexer": "ipython3",
   "version": "3.9.13"
  }
 },
 "nbformat": 4,
 "nbformat_minor": 5
}
